{
 "cells": [
  {
   "cell_type": "code",
   "execution_count": 1,
   "metadata": {},
   "outputs": [],
   "source": [
    "import pandas as pd"
   ]
  },
  {
   "cell_type": "code",
   "execution_count": 2,
   "metadata": {},
   "outputs": [],
   "source": [
    "red_wine = pd.read_csv('winequality-red.csv', sep=';')\n",
    "white_wine = pd.read_csv('winequality-white.csv', sep=';')"
   ]
  },
  {
   "cell_type": "code",
   "execution_count": 3,
   "metadata": {},
   "outputs": [
    {
     "data": {
      "text/html": [
       "<div>\n",
       "<style scoped>\n",
       "    .dataframe tbody tr th:only-of-type {\n",
       "        vertical-align: middle;\n",
       "    }\n",
       "\n",
       "    .dataframe tbody tr th {\n",
       "        vertical-align: top;\n",
       "    }\n",
       "\n",
       "    .dataframe thead th {\n",
       "        text-align: right;\n",
       "    }\n",
       "</style>\n",
       "<table border=\"1\" class=\"dataframe\">\n",
       "  <thead>\n",
       "    <tr style=\"text-align: right;\">\n",
       "      <th></th>\n",
       "      <th>fixed acidity</th>\n",
       "      <th>volatile acidity</th>\n",
       "      <th>citric acid</th>\n",
       "      <th>residual sugar</th>\n",
       "      <th>chlorides</th>\n",
       "      <th>free sulfur dioxide</th>\n",
       "      <th>total sulfur dioxide</th>\n",
       "      <th>density</th>\n",
       "      <th>pH</th>\n",
       "      <th>sulphates</th>\n",
       "      <th>alcohol</th>\n",
       "      <th>quality</th>\n",
       "    </tr>\n",
       "  </thead>\n",
       "  <tbody>\n",
       "    <tr>\n",
       "      <th>0</th>\n",
       "      <td>7.4</td>\n",
       "      <td>0.70</td>\n",
       "      <td>0.00</td>\n",
       "      <td>1.9</td>\n",
       "      <td>0.076</td>\n",
       "      <td>11.0</td>\n",
       "      <td>34.0</td>\n",
       "      <td>0.9978</td>\n",
       "      <td>3.51</td>\n",
       "      <td>0.56</td>\n",
       "      <td>9.4</td>\n",
       "      <td>5</td>\n",
       "    </tr>\n",
       "    <tr>\n",
       "      <th>1</th>\n",
       "      <td>7.8</td>\n",
       "      <td>0.88</td>\n",
       "      <td>0.00</td>\n",
       "      <td>2.6</td>\n",
       "      <td>0.098</td>\n",
       "      <td>25.0</td>\n",
       "      <td>67.0</td>\n",
       "      <td>0.9968</td>\n",
       "      <td>3.20</td>\n",
       "      <td>0.68</td>\n",
       "      <td>9.8</td>\n",
       "      <td>5</td>\n",
       "    </tr>\n",
       "    <tr>\n",
       "      <th>2</th>\n",
       "      <td>7.8</td>\n",
       "      <td>0.76</td>\n",
       "      <td>0.04</td>\n",
       "      <td>2.3</td>\n",
       "      <td>0.092</td>\n",
       "      <td>15.0</td>\n",
       "      <td>54.0</td>\n",
       "      <td>0.9970</td>\n",
       "      <td>3.26</td>\n",
       "      <td>0.65</td>\n",
       "      <td>9.8</td>\n",
       "      <td>5</td>\n",
       "    </tr>\n",
       "    <tr>\n",
       "      <th>3</th>\n",
       "      <td>11.2</td>\n",
       "      <td>0.28</td>\n",
       "      <td>0.56</td>\n",
       "      <td>1.9</td>\n",
       "      <td>0.075</td>\n",
       "      <td>17.0</td>\n",
       "      <td>60.0</td>\n",
       "      <td>0.9980</td>\n",
       "      <td>3.16</td>\n",
       "      <td>0.58</td>\n",
       "      <td>9.8</td>\n",
       "      <td>6</td>\n",
       "    </tr>\n",
       "    <tr>\n",
       "      <th>4</th>\n",
       "      <td>7.4</td>\n",
       "      <td>0.70</td>\n",
       "      <td>0.00</td>\n",
       "      <td>1.9</td>\n",
       "      <td>0.076</td>\n",
       "      <td>11.0</td>\n",
       "      <td>34.0</td>\n",
       "      <td>0.9978</td>\n",
       "      <td>3.51</td>\n",
       "      <td>0.56</td>\n",
       "      <td>9.4</td>\n",
       "      <td>5</td>\n",
       "    </tr>\n",
       "  </tbody>\n",
       "</table>\n",
       "</div>"
      ],
      "text/plain": [
       "   fixed acidity  volatile acidity  citric acid  residual sugar  chlorides  \\\n",
       "0            7.4              0.70         0.00             1.9      0.076   \n",
       "1            7.8              0.88         0.00             2.6      0.098   \n",
       "2            7.8              0.76         0.04             2.3      0.092   \n",
       "3           11.2              0.28         0.56             1.9      0.075   \n",
       "4            7.4              0.70         0.00             1.9      0.076   \n",
       "\n",
       "   free sulfur dioxide  total sulfur dioxide  density    pH  sulphates  \\\n",
       "0                 11.0                  34.0   0.9978  3.51       0.56   \n",
       "1                 25.0                  67.0   0.9968  3.20       0.68   \n",
       "2                 15.0                  54.0   0.9970  3.26       0.65   \n",
       "3                 17.0                  60.0   0.9980  3.16       0.58   \n",
       "4                 11.0                  34.0   0.9978  3.51       0.56   \n",
       "\n",
       "   alcohol  quality  \n",
       "0      9.4        5  \n",
       "1      9.8        5  \n",
       "2      9.8        5  \n",
       "3      9.8        6  \n",
       "4      9.4        5  "
      ]
     },
     "execution_count": 3,
     "metadata": {},
     "output_type": "execute_result"
    }
   ],
   "source": [
    "red_wine.head()"
   ]
  },
  {
   "cell_type": "code",
   "execution_count": 4,
   "metadata": {},
   "outputs": [
    {
     "data": {
      "text/plain": [
       "5    681\n",
       "6    638\n",
       "7    199\n",
       "4     53\n",
       "8     18\n",
       "3     10\n",
       "Name: quality, dtype: int64"
      ]
     },
     "execution_count": 4,
     "metadata": {},
     "output_type": "execute_result"
    }
   ],
   "source": [
    "red_wine.quality.value_counts()"
   ]
  },
  {
   "cell_type": "markdown",
   "metadata": {},
   "source": [
    "`Biased towards classes 5 and 6`"
   ]
  },
  {
   "cell_type": "code",
   "execution_count": 5,
   "metadata": {},
   "outputs": [
    {
     "data": {
      "text/plain": [
       "Index(['fixed acidity', 'volatile acidity', 'citric acid', 'residual sugar',\n",
       "       'chlorides', 'free sulfur dioxide', 'total sulfur dioxide', 'density',\n",
       "       'pH', 'sulphates', 'alcohol', 'quality'],\n",
       "      dtype='object')"
      ]
     },
     "execution_count": 5,
     "metadata": {},
     "output_type": "execute_result"
    }
   ],
   "source": [
    "red_wine.columns"
   ]
  },
  {
   "cell_type": "code",
   "execution_count": 6,
   "metadata": {},
   "outputs": [
    {
     "data": {
      "text/plain": [
       "6    2198\n",
       "5    1457\n",
       "7     880\n",
       "8     175\n",
       "4     163\n",
       "3      20\n",
       "9       5\n",
       "Name: quality, dtype: int64"
      ]
     },
     "execution_count": 6,
     "metadata": {},
     "output_type": "execute_result"
    }
   ],
   "source": [
    "white_wine.quality.value_counts()"
   ]
  },
  {
   "cell_type": "code",
   "execution_count": 7,
   "metadata": {},
   "outputs": [
    {
     "name": "stdout",
     "output_type": "stream",
     "text": [
      "length of red-wine - 1599 \n",
      "length of white-wine - 4898\n"
     ]
    }
   ],
   "source": [
    "print(f'length of red-wine - {len(red_wine)} \\nlength of white-wine - {len(white_wine)}')"
   ]
  },
  {
   "cell_type": "markdown",
   "metadata": {},
   "source": [
    "## Doing it on Red wine Dataset"
   ]
  },
  {
   "cell_type": "code",
   "execution_count": 8,
   "metadata": {},
   "outputs": [],
   "source": [
    "from sklearn.preprocessing import StandardScaler\n",
    "\n",
    "y = red_wine['quality']\n",
    "X_ = red_wine[['fixed acidity', 'volatile acidity', 'citric acid', 'residual sugar',\n",
    "       'chlorides', 'free sulfur dioxide', 'total sulfur dioxide', 'density',\n",
    "       'pH', 'sulphates', 'alcohol']]"
   ]
  },
  {
   "cell_type": "code",
   "execution_count": 9,
   "metadata": {},
   "outputs": [
    {
     "data": {
      "text/html": [
       "<div>\n",
       "<style scoped>\n",
       "    .dataframe tbody tr th:only-of-type {\n",
       "        vertical-align: middle;\n",
       "    }\n",
       "\n",
       "    .dataframe tbody tr th {\n",
       "        vertical-align: top;\n",
       "    }\n",
       "\n",
       "    .dataframe thead th {\n",
       "        text-align: right;\n",
       "    }\n",
       "</style>\n",
       "<table border=\"1\" class=\"dataframe\">\n",
       "  <thead>\n",
       "    <tr style=\"text-align: right;\">\n",
       "      <th></th>\n",
       "      <th>fixed acidity</th>\n",
       "      <th>volatile acidity</th>\n",
       "      <th>citric acid</th>\n",
       "      <th>residual sugar</th>\n",
       "      <th>chlorides</th>\n",
       "      <th>free sulfur dioxide</th>\n",
       "      <th>total sulfur dioxide</th>\n",
       "      <th>density</th>\n",
       "      <th>pH</th>\n",
       "      <th>sulphates</th>\n",
       "      <th>alcohol</th>\n",
       "    </tr>\n",
       "  </thead>\n",
       "  <tbody>\n",
       "    <tr>\n",
       "      <th>0</th>\n",
       "      <td>7.4</td>\n",
       "      <td>0.70</td>\n",
       "      <td>0.00</td>\n",
       "      <td>1.9</td>\n",
       "      <td>0.076</td>\n",
       "      <td>11.0</td>\n",
       "      <td>34.0</td>\n",
       "      <td>0.9978</td>\n",
       "      <td>3.51</td>\n",
       "      <td>0.56</td>\n",
       "      <td>9.4</td>\n",
       "    </tr>\n",
       "    <tr>\n",
       "      <th>1</th>\n",
       "      <td>7.8</td>\n",
       "      <td>0.88</td>\n",
       "      <td>0.00</td>\n",
       "      <td>2.6</td>\n",
       "      <td>0.098</td>\n",
       "      <td>25.0</td>\n",
       "      <td>67.0</td>\n",
       "      <td>0.9968</td>\n",
       "      <td>3.20</td>\n",
       "      <td>0.68</td>\n",
       "      <td>9.8</td>\n",
       "    </tr>\n",
       "    <tr>\n",
       "      <th>2</th>\n",
       "      <td>7.8</td>\n",
       "      <td>0.76</td>\n",
       "      <td>0.04</td>\n",
       "      <td>2.3</td>\n",
       "      <td>0.092</td>\n",
       "      <td>15.0</td>\n",
       "      <td>54.0</td>\n",
       "      <td>0.9970</td>\n",
       "      <td>3.26</td>\n",
       "      <td>0.65</td>\n",
       "      <td>9.8</td>\n",
       "    </tr>\n",
       "    <tr>\n",
       "      <th>3</th>\n",
       "      <td>11.2</td>\n",
       "      <td>0.28</td>\n",
       "      <td>0.56</td>\n",
       "      <td>1.9</td>\n",
       "      <td>0.075</td>\n",
       "      <td>17.0</td>\n",
       "      <td>60.0</td>\n",
       "      <td>0.9980</td>\n",
       "      <td>3.16</td>\n",
       "      <td>0.58</td>\n",
       "      <td>9.8</td>\n",
       "    </tr>\n",
       "    <tr>\n",
       "      <th>4</th>\n",
       "      <td>7.4</td>\n",
       "      <td>0.70</td>\n",
       "      <td>0.00</td>\n",
       "      <td>1.9</td>\n",
       "      <td>0.076</td>\n",
       "      <td>11.0</td>\n",
       "      <td>34.0</td>\n",
       "      <td>0.9978</td>\n",
       "      <td>3.51</td>\n",
       "      <td>0.56</td>\n",
       "      <td>9.4</td>\n",
       "    </tr>\n",
       "  </tbody>\n",
       "</table>\n",
       "</div>"
      ],
      "text/plain": [
       "   fixed acidity  volatile acidity  citric acid  residual sugar  chlorides  \\\n",
       "0            7.4              0.70         0.00             1.9      0.076   \n",
       "1            7.8              0.88         0.00             2.6      0.098   \n",
       "2            7.8              0.76         0.04             2.3      0.092   \n",
       "3           11.2              0.28         0.56             1.9      0.075   \n",
       "4            7.4              0.70         0.00             1.9      0.076   \n",
       "\n",
       "   free sulfur dioxide  total sulfur dioxide  density    pH  sulphates  \\\n",
       "0                 11.0                  34.0   0.9978  3.51       0.56   \n",
       "1                 25.0                  67.0   0.9968  3.20       0.68   \n",
       "2                 15.0                  54.0   0.9970  3.26       0.65   \n",
       "3                 17.0                  60.0   0.9980  3.16       0.58   \n",
       "4                 11.0                  34.0   0.9978  3.51       0.56   \n",
       "\n",
       "   alcohol  \n",
       "0      9.4  \n",
       "1      9.8  \n",
       "2      9.8  \n",
       "3      9.8  \n",
       "4      9.4  "
      ]
     },
     "execution_count": 9,
     "metadata": {},
     "output_type": "execute_result"
    }
   ],
   "source": [
    "X_.head()"
   ]
  },
  {
   "cell_type": "code",
   "execution_count": 10,
   "metadata": {},
   "outputs": [
    {
     "data": {
      "text/html": [
       "<style  type=\"text/css\" >\n",
       "    #T_d539d588_010a_11ea_8924_302432ac5020row0_col0 {\n",
       "            background-color:  #b40426;\n",
       "            color:  #f1f1f1;\n",
       "        }    #T_d539d588_010a_11ea_8924_302432ac5020row0_col1 {\n",
       "            background-color:  #779af7;\n",
       "            color:  #000000;\n",
       "        }    #T_d539d588_010a_11ea_8924_302432ac5020row0_col2 {\n",
       "            background-color:  #f08a6c;\n",
       "            color:  #000000;\n",
       "        }    #T_d539d588_010a_11ea_8924_302432ac5020row0_col3 {\n",
       "            background-color:  #7699f6;\n",
       "            color:  #000000;\n",
       "        }    #T_d539d588_010a_11ea_8924_302432ac5020row0_col4 {\n",
       "            background-color:  #98b9ff;\n",
       "            color:  #000000;\n",
       "        }    #T_d539d588_010a_11ea_8924_302432ac5020row0_col5 {\n",
       "            background-color:  #3b4cc0;\n",
       "            color:  #f1f1f1;\n",
       "        }    #T_d539d588_010a_11ea_8924_302432ac5020row0_col6 {\n",
       "            background-color:  #516ddb;\n",
       "            color:  #000000;\n",
       "        }    #T_d539d588_010a_11ea_8924_302432ac5020row0_col7 {\n",
       "            background-color:  #f18d6f;\n",
       "            color:  #000000;\n",
       "        }    #T_d539d588_010a_11ea_8924_302432ac5020row0_col8 {\n",
       "            background-color:  #3b4cc0;\n",
       "            color:  #f1f1f1;\n",
       "        }    #T_d539d588_010a_11ea_8924_302432ac5020row0_col9 {\n",
       "            background-color:  #b1cbfc;\n",
       "            color:  #000000;\n",
       "        }    #T_d539d588_010a_11ea_8924_302432ac5020row0_col10 {\n",
       "            background-color:  #9bbcff;\n",
       "            color:  #000000;\n",
       "        }    #T_d539d588_010a_11ea_8924_302432ac5020row1_col0 {\n",
       "            background-color:  #8db0fe;\n",
       "            color:  #000000;\n",
       "        }    #T_d539d588_010a_11ea_8924_302432ac5020row1_col1 {\n",
       "            background-color:  #b40426;\n",
       "            color:  #f1f1f1;\n",
       "        }    #T_d539d588_010a_11ea_8924_302432ac5020row1_col2 {\n",
       "            background-color:  #3b4cc0;\n",
       "            color:  #f1f1f1;\n",
       "        }    #T_d539d588_010a_11ea_8924_302432ac5020row1_col3 {\n",
       "            background-color:  #536edd;\n",
       "            color:  #000000;\n",
       "        }    #T_d539d588_010a_11ea_8924_302432ac5020row1_col4 {\n",
       "            background-color:  #90b2fe;\n",
       "            color:  #000000;\n",
       "        }    #T_d539d588_010a_11ea_8924_302432ac5020row1_col5 {\n",
       "            background-color:  #6180e9;\n",
       "            color:  #000000;\n",
       "        }    #T_d539d588_010a_11ea_8924_302432ac5020row1_col6 {\n",
       "            background-color:  #86a9fc;\n",
       "            color:  #000000;\n",
       "        }    #T_d539d588_010a_11ea_8924_302432ac5020row1_col7 {\n",
       "            background-color:  #aec9fc;\n",
       "            color:  #000000;\n",
       "        }    #T_d539d588_010a_11ea_8924_302432ac5020row1_col8 {\n",
       "            background-color:  #e8d6cc;\n",
       "            color:  #000000;\n",
       "        }    #T_d539d588_010a_11ea_8924_302432ac5020row1_col9 {\n",
       "            background-color:  #3b4cc0;\n",
       "            color:  #f1f1f1;\n",
       "        }    #T_d539d588_010a_11ea_8924_302432ac5020row1_col10 {\n",
       "            background-color:  #7a9df8;\n",
       "            color:  #000000;\n",
       "        }    #T_d539d588_010a_11ea_8924_302432ac5020row2_col0 {\n",
       "            background-color:  #ec8165;\n",
       "            color:  #000000;\n",
       "        }    #T_d539d588_010a_11ea_8924_302432ac5020row2_col1 {\n",
       "            background-color:  #3b4cc0;\n",
       "            color:  #f1f1f1;\n",
       "        }    #T_d539d588_010a_11ea_8924_302432ac5020row2_col2 {\n",
       "            background-color:  #b40426;\n",
       "            color:  #f1f1f1;\n",
       "        }    #T_d539d588_010a_11ea_8924_302432ac5020row2_col3 {\n",
       "            background-color:  #80a3fa;\n",
       "            color:  #000000;\n",
       "        }    #T_d539d588_010a_11ea_8924_302432ac5020row2_col4 {\n",
       "            background-color:  #b6cefa;\n",
       "            color:  #000000;\n",
       "        }    #T_d539d588_010a_11ea_8924_302432ac5020row2_col5 {\n",
       "            background-color:  #536edd;\n",
       "            color:  #000000;\n",
       "        }    #T_d539d588_010a_11ea_8924_302432ac5020row2_col6 {\n",
       "            background-color:  #7b9ff9;\n",
       "            color:  #000000;\n",
       "        }    #T_d539d588_010a_11ea_8924_302432ac5020row2_col7 {\n",
       "            background-color:  #eed0c0;\n",
       "            color:  #000000;\n",
       "        }    #T_d539d588_010a_11ea_8924_302432ac5020row2_col8 {\n",
       "            background-color:  #5470de;\n",
       "            color:  #000000;\n",
       "        }    #T_d539d588_010a_11ea_8924_302432ac5020row2_col9 {\n",
       "            background-color:  #d1dae9;\n",
       "            color:  #000000;\n",
       "        }    #T_d539d588_010a_11ea_8924_302432ac5020row2_col10 {\n",
       "            background-color:  #c1d4f4;\n",
       "            color:  #000000;\n",
       "        }    #T_d539d588_010a_11ea_8924_302432ac5020row3_col0 {\n",
       "            background-color:  #d6dce4;\n",
       "            color:  #000000;\n",
       "        }    #T_d539d588_010a_11ea_8924_302432ac5020row3_col1 {\n",
       "            background-color:  #b2ccfb;\n",
       "            color:  #000000;\n",
       "        }    #T_d539d588_010a_11ea_8924_302432ac5020row3_col2 {\n",
       "            background-color:  #cedaeb;\n",
       "            color:  #000000;\n",
       "        }    #T_d539d588_010a_11ea_8924_302432ac5020row3_col3 {\n",
       "            background-color:  #b40426;\n",
       "            color:  #f1f1f1;\n",
       "        }    #T_d539d588_010a_11ea_8924_302432ac5020row3_col4 {\n",
       "            background-color:  #8db0fe;\n",
       "            color:  #000000;\n",
       "        }    #T_d539d588_010a_11ea_8924_302432ac5020row3_col5 {\n",
       "            background-color:  #9dbdff;\n",
       "            color:  #000000;\n",
       "        }    #T_d539d588_010a_11ea_8924_302432ac5020row3_col6 {\n",
       "            background-color:  #abc8fd;\n",
       "            color:  #000000;\n",
       "        }    #T_d539d588_010a_11ea_8924_302432ac5020row3_col7 {\n",
       "            background-color:  #edd2c3;\n",
       "            color:  #000000;\n",
       "        }    #T_d539d588_010a_11ea_8924_302432ac5020row3_col8 {\n",
       "            background-color:  #b1cbfc;\n",
       "            color:  #000000;\n",
       "        }    #T_d539d588_010a_11ea_8924_302432ac5020row3_col9 {\n",
       "            background-color:  #80a3fa;\n",
       "            color:  #000000;\n",
       "        }    #T_d539d588_010a_11ea_8924_302432ac5020row3_col10 {\n",
       "            background-color:  #b3cdfb;\n",
       "            color:  #000000;\n",
       "        }    #T_d539d588_010a_11ea_8924_302432ac5020row4_col0 {\n",
       "            background-color:  #d3dbe7;\n",
       "            color:  #000000;\n",
       "        }    #T_d539d588_010a_11ea_8924_302432ac5020row4_col1 {\n",
       "            background-color:  #bfd3f6;\n",
       "            color:  #000000;\n",
       "        }    #T_d539d588_010a_11ea_8924_302432ac5020row4_col2 {\n",
       "            background-color:  #d9dce1;\n",
       "            color:  #000000;\n",
       "        }    #T_d539d588_010a_11ea_8924_302432ac5020row4_col3 {\n",
       "            background-color:  #6384eb;\n",
       "            color:  #000000;\n",
       "        }    #T_d539d588_010a_11ea_8924_302432ac5020row4_col4 {\n",
       "            background-color:  #b40426;\n",
       "            color:  #f1f1f1;\n",
       "        }    #T_d539d588_010a_11ea_8924_302432ac5020row4_col5 {\n",
       "            background-color:  #6687ed;\n",
       "            color:  #000000;\n",
       "        }    #T_d539d588_010a_11ea_8924_302432ac5020row4_col6 {\n",
       "            background-color:  #7ea1fa;\n",
       "            color:  #000000;\n",
       "        }    #T_d539d588_010a_11ea_8924_302432ac5020row4_col7 {\n",
       "            background-color:  #d4dbe6;\n",
       "            color:  #000000;\n",
       "        }    #T_d539d588_010a_11ea_8924_302432ac5020row4_col8 {\n",
       "            background-color:  #8caffe;\n",
       "            color:  #000000;\n",
       "        }    #T_d539d588_010a_11ea_8924_302432ac5020row4_col9 {\n",
       "            background-color:  #dddcdc;\n",
       "            color:  #000000;\n",
       "        }    #T_d539d588_010a_11ea_8924_302432ac5020row4_col10 {\n",
       "            background-color:  #7699f6;\n",
       "            color:  #000000;\n",
       "        }    #T_d539d588_010a_11ea_8924_302432ac5020row5_col0 {\n",
       "            background-color:  #a3c2fe;\n",
       "            color:  #000000;\n",
       "        }    #T_d539d588_010a_11ea_8924_302432ac5020row5_col1 {\n",
       "            background-color:  #afcafc;\n",
       "            color:  #000000;\n",
       "        }    #T_d539d588_010a_11ea_8924_302432ac5020row5_col2 {\n",
       "            background-color:  #a5c3fe;\n",
       "            color:  #000000;\n",
       "        }    #T_d539d588_010a_11ea_8924_302432ac5020row5_col3 {\n",
       "            background-color:  #8db0fe;\n",
       "            color:  #000000;\n",
       "        }    #T_d539d588_010a_11ea_8924_302432ac5020row5_col4 {\n",
       "            background-color:  #80a3fa;\n",
       "            color:  #000000;\n",
       "        }    #T_d539d588_010a_11ea_8924_302432ac5020row5_col5 {\n",
       "            background-color:  #b40426;\n",
       "            color:  #f1f1f1;\n",
       "        }    #T_d539d588_010a_11ea_8924_302432ac5020row5_col6 {\n",
       "            background-color:  #f6a385;\n",
       "            color:  #000000;\n",
       "        }    #T_d539d588_010a_11ea_8924_302432ac5020row5_col7 {\n",
       "            background-color:  #a5c3fe;\n",
       "            color:  #000000;\n",
       "        }    #T_d539d588_010a_11ea_8924_302432ac5020row5_col8 {\n",
       "            background-color:  #cedaeb;\n",
       "            color:  #000000;\n",
       "        }    #T_d539d588_010a_11ea_8924_302432ac5020row5_col9 {\n",
       "            background-color:  #8caffe;\n",
       "            color:  #000000;\n",
       "        }    #T_d539d588_010a_11ea_8924_302432ac5020row5_col10 {\n",
       "            background-color:  #9abbff;\n",
       "            color:  #000000;\n",
       "        }    #T_d539d588_010a_11ea_8924_302432ac5020row6_col0 {\n",
       "            background-color:  #abc8fd;\n",
       "            color:  #000000;\n",
       "        }    #T_d539d588_010a_11ea_8924_302432ac5020row6_col1 {\n",
       "            background-color:  #c1d4f4;\n",
       "            color:  #000000;\n",
       "        }    #T_d539d588_010a_11ea_8924_302432ac5020row6_col2 {\n",
       "            background-color:  #b9d0f9;\n",
       "            color:  #000000;\n",
       "        }    #T_d539d588_010a_11ea_8924_302432ac5020row6_col3 {\n",
       "            background-color:  #93b5fe;\n",
       "            color:  #000000;\n",
       "        }    #T_d539d588_010a_11ea_8924_302432ac5020row6_col4 {\n",
       "            background-color:  #8caffe;\n",
       "            color:  #000000;\n",
       "        }    #T_d539d588_010a_11ea_8924_302432ac5020row6_col5 {\n",
       "            background-color:  #f7a889;\n",
       "            color:  #000000;\n",
       "        }    #T_d539d588_010a_11ea_8924_302432ac5020row6_col6 {\n",
       "            background-color:  #b40426;\n",
       "            color:  #f1f1f1;\n",
       "        }    #T_d539d588_010a_11ea_8924_302432ac5020row6_col7 {\n",
       "            background-color:  #bad0f8;\n",
       "            color:  #000000;\n",
       "        }    #T_d539d588_010a_11ea_8924_302432ac5020row6_col8 {\n",
       "            background-color:  #b5cdfa;\n",
       "            color:  #000000;\n",
       "        }    #T_d539d588_010a_11ea_8924_302432ac5020row6_col9 {\n",
       "            background-color:  #89acfd;\n",
       "            color:  #000000;\n",
       "        }    #T_d539d588_010a_11ea_8924_302432ac5020row6_col10 {\n",
       "            background-color:  #799cf8;\n",
       "            color:  #000000;\n",
       "        }    #T_d539d588_010a_11ea_8924_302432ac5020row7_col0 {\n",
       "            background-color:  #ed8366;\n",
       "            color:  #000000;\n",
       "        }    #T_d539d588_010a_11ea_8924_302432ac5020row7_col1 {\n",
       "            background-color:  #b6cefa;\n",
       "            color:  #000000;\n",
       "        }    #T_d539d588_010a_11ea_8924_302432ac5020row7_col2 {\n",
       "            background-color:  #f1cdba;\n",
       "            color:  #000000;\n",
       "        }    #T_d539d588_010a_11ea_8924_302432ac5020row7_col3 {\n",
       "            background-color:  #c1d4f4;\n",
       "            color:  #000000;\n",
       "        }    #T_d539d588_010a_11ea_8924_302432ac5020row7_col4 {\n",
       "            background-color:  #b6cefa;\n",
       "            color:  #000000;\n",
       "        }    #T_d539d588_010a_11ea_8924_302432ac5020row7_col5 {\n",
       "            background-color:  #5e7de7;\n",
       "            color:  #000000;\n",
       "        }    #T_d539d588_010a_11ea_8924_302432ac5020row7_col6 {\n",
       "            background-color:  #85a8fc;\n",
       "            color:  #000000;\n",
       "        }    #T_d539d588_010a_11ea_8924_302432ac5020row7_col7 {\n",
       "            background-color:  #b40426;\n",
       "            color:  #f1f1f1;\n",
       "        }    #T_d539d588_010a_11ea_8924_302432ac5020row7_col8 {\n",
       "            background-color:  #7b9ff9;\n",
       "            color:  #000000;\n",
       "        }    #T_d539d588_010a_11ea_8924_302432ac5020row7_col9 {\n",
       "            background-color:  #a7c5fe;\n",
       "            color:  #000000;\n",
       "        }    #T_d539d588_010a_11ea_8924_302432ac5020row7_col10 {\n",
       "            background-color:  #3b4cc0;\n",
       "            color:  #f1f1f1;\n",
       "        }    #T_d539d588_010a_11ea_8924_302432ac5020row8_col0 {\n",
       "            background-color:  #3b4cc0;\n",
       "            color:  #f1f1f1;\n",
       "        }    #T_d539d588_010a_11ea_8924_302432ac5020row8_col1 {\n",
       "            background-color:  #dedcdb;\n",
       "            color:  #000000;\n",
       "        }    #T_d539d588_010a_11ea_8924_302432ac5020row8_col2 {\n",
       "            background-color:  #3c4ec2;\n",
       "            color:  #f1f1f1;\n",
       "        }    #T_d539d588_010a_11ea_8924_302432ac5020row8_col3 {\n",
       "            background-color:  #3b4cc0;\n",
       "            color:  #f1f1f1;\n",
       "        }    #T_d539d588_010a_11ea_8924_302432ac5020row8_col4 {\n",
       "            background-color:  #3b4cc0;\n",
       "            color:  #f1f1f1;\n",
       "        }    #T_d539d588_010a_11ea_8924_302432ac5020row8_col5 {\n",
       "            background-color:  #799cf8;\n",
       "            color:  #000000;\n",
       "        }    #T_d539d588_010a_11ea_8924_302432ac5020row8_col6 {\n",
       "            background-color:  #5e7de7;\n",
       "            color:  #000000;\n",
       "        }    #T_d539d588_010a_11ea_8924_302432ac5020row8_col7 {\n",
       "            background-color:  #5a78e4;\n",
       "            color:  #000000;\n",
       "        }    #T_d539d588_010a_11ea_8924_302432ac5020row8_col8 {\n",
       "            background-color:  #b40426;\n",
       "            color:  #f1f1f1;\n",
       "        }    #T_d539d588_010a_11ea_8924_302432ac5020row8_col9 {\n",
       "            background-color:  #4a63d3;\n",
       "            color:  #f1f1f1;\n",
       "        }    #T_d539d588_010a_11ea_8924_302432ac5020row8_col10 {\n",
       "            background-color:  #d5dbe5;\n",
       "            color:  #000000;\n",
       "        }    #T_d539d588_010a_11ea_8924_302432ac5020row9_col0 {\n",
       "            background-color:  #e0dbd8;\n",
       "            color:  #000000;\n",
       "        }    #T_d539d588_010a_11ea_8924_302432ac5020row9_col1 {\n",
       "            background-color:  #779af7;\n",
       "            color:  #000000;\n",
       "        }    #T_d539d588_010a_11ea_8924_302432ac5020row9_col2 {\n",
       "            background-color:  #ead4c8;\n",
       "            color:  #000000;\n",
       "        }    #T_d539d588_010a_11ea_8924_302432ac5020row9_col3 {\n",
       "            background-color:  #5470de;\n",
       "            color:  #000000;\n",
       "        }    #T_d539d588_010a_11ea_8924_302432ac5020row9_col4 {\n",
       "            background-color:  #dddcdc;\n",
       "            color:  #000000;\n",
       "        }    #T_d539d588_010a_11ea_8924_302432ac5020row9_col5 {\n",
       "            background-color:  #7396f5;\n",
       "            color:  #000000;\n",
       "        }    #T_d539d588_010a_11ea_8924_302432ac5020row9_col6 {\n",
       "            background-color:  #7da0f9;\n",
       "            color:  #000000;\n",
       "        }    #T_d539d588_010a_11ea_8924_302432ac5020row9_col7 {\n",
       "            background-color:  #cad8ef;\n",
       "            color:  #000000;\n",
       "        }    #T_d539d588_010a_11ea_8924_302432ac5020row9_col8 {\n",
       "            background-color:  #9abbff;\n",
       "            color:  #000000;\n",
       "        }    #T_d539d588_010a_11ea_8924_302432ac5020row9_col9 {\n",
       "            background-color:  #b40426;\n",
       "            color:  #f1f1f1;\n",
       "        }    #T_d539d588_010a_11ea_8924_302432ac5020row9_col10 {\n",
       "            background-color:  #bed2f6;\n",
       "            color:  #000000;\n",
       "        }    #T_d539d588_010a_11ea_8924_302432ac5020row10_col0 {\n",
       "            background-color:  #b6cefa;\n",
       "            color:  #000000;\n",
       "        }    #T_d539d588_010a_11ea_8924_302432ac5020row10_col1 {\n",
       "            background-color:  #84a7fc;\n",
       "            color:  #000000;\n",
       "        }    #T_d539d588_010a_11ea_8924_302432ac5020row10_col2 {\n",
       "            background-color:  #c9d7f0;\n",
       "            color:  #000000;\n",
       "        }    #T_d539d588_010a_11ea_8924_302432ac5020row10_col3 {\n",
       "            background-color:  #5f7fe8;\n",
       "            color:  #000000;\n",
       "        }    #T_d539d588_010a_11ea_8924_302432ac5020row10_col4 {\n",
       "            background-color:  #445acc;\n",
       "            color:  #f1f1f1;\n",
       "        }    #T_d539d588_010a_11ea_8924_302432ac5020row10_col5 {\n",
       "            background-color:  #506bda;\n",
       "            color:  #000000;\n",
       "        }    #T_d539d588_010a_11ea_8924_302432ac5020row10_col6 {\n",
       "            background-color:  #3b4cc0;\n",
       "            color:  #f1f1f1;\n",
       "        }    #T_d539d588_010a_11ea_8924_302432ac5020row10_col7 {\n",
       "            background-color:  #3b4cc0;\n",
       "            color:  #f1f1f1;\n",
       "        }    #T_d539d588_010a_11ea_8924_302432ac5020row10_col8 {\n",
       "            background-color:  #e4d9d2;\n",
       "            color:  #000000;\n",
       "        }    #T_d539d588_010a_11ea_8924_302432ac5020row10_col9 {\n",
       "            background-color:  #97b8ff;\n",
       "            color:  #000000;\n",
       "        }    #T_d539d588_010a_11ea_8924_302432ac5020row10_col10 {\n",
       "            background-color:  #b40426;\n",
       "            color:  #f1f1f1;\n",
       "        }</style><table id=\"T_d539d588_010a_11ea_8924_302432ac5020\" ><thead>    <tr>        <th class=\"blank level0\" ></th>        <th class=\"col_heading level0 col0\" >fixed acidity</th>        <th class=\"col_heading level0 col1\" >volatile acidity</th>        <th class=\"col_heading level0 col2\" >citric acid</th>        <th class=\"col_heading level0 col3\" >residual sugar</th>        <th class=\"col_heading level0 col4\" >chlorides</th>        <th class=\"col_heading level0 col5\" >free sulfur dioxide</th>        <th class=\"col_heading level0 col6\" >total sulfur dioxide</th>        <th class=\"col_heading level0 col7\" >density</th>        <th class=\"col_heading level0 col8\" >pH</th>        <th class=\"col_heading level0 col9\" >sulphates</th>        <th class=\"col_heading level0 col10\" >alcohol</th>    </tr></thead><tbody>\n",
       "                <tr>\n",
       "                        <th id=\"T_d539d588_010a_11ea_8924_302432ac5020level0_row0\" class=\"row_heading level0 row0\" >fixed acidity</th>\n",
       "                        <td id=\"T_d539d588_010a_11ea_8924_302432ac5020row0_col0\" class=\"data row0 col0\" >1</td>\n",
       "                        <td id=\"T_d539d588_010a_11ea_8924_302432ac5020row0_col1\" class=\"data row0 col1\" >-0.256131</td>\n",
       "                        <td id=\"T_d539d588_010a_11ea_8924_302432ac5020row0_col2\" class=\"data row0 col2\" >0.671703</td>\n",
       "                        <td id=\"T_d539d588_010a_11ea_8924_302432ac5020row0_col3\" class=\"data row0 col3\" >0.114777</td>\n",
       "                        <td id=\"T_d539d588_010a_11ea_8924_302432ac5020row0_col4\" class=\"data row0 col4\" >0.0937052</td>\n",
       "                        <td id=\"T_d539d588_010a_11ea_8924_302432ac5020row0_col5\" class=\"data row0 col5\" >-0.153794</td>\n",
       "                        <td id=\"T_d539d588_010a_11ea_8924_302432ac5020row0_col6\" class=\"data row0 col6\" >-0.113181</td>\n",
       "                        <td id=\"T_d539d588_010a_11ea_8924_302432ac5020row0_col7\" class=\"data row0 col7\" >0.668047</td>\n",
       "                        <td id=\"T_d539d588_010a_11ea_8924_302432ac5020row0_col8\" class=\"data row0 col8\" >-0.682978</td>\n",
       "                        <td id=\"T_d539d588_010a_11ea_8924_302432ac5020row0_col9\" class=\"data row0 col9\" >0.183006</td>\n",
       "                        <td id=\"T_d539d588_010a_11ea_8924_302432ac5020row0_col10\" class=\"data row0 col10\" >-0.0616683</td>\n",
       "            </tr>\n",
       "            <tr>\n",
       "                        <th id=\"T_d539d588_010a_11ea_8924_302432ac5020level0_row1\" class=\"row_heading level0 row1\" >volatile acidity</th>\n",
       "                        <td id=\"T_d539d588_010a_11ea_8924_302432ac5020row1_col0\" class=\"data row1 col0\" >-0.256131</td>\n",
       "                        <td id=\"T_d539d588_010a_11ea_8924_302432ac5020row1_col1\" class=\"data row1 col1\" >1</td>\n",
       "                        <td id=\"T_d539d588_010a_11ea_8924_302432ac5020row1_col2\" class=\"data row1 col2\" >-0.552496</td>\n",
       "                        <td id=\"T_d539d588_010a_11ea_8924_302432ac5020row1_col3\" class=\"data row1 col3\" >0.00191788</td>\n",
       "                        <td id=\"T_d539d588_010a_11ea_8924_302432ac5020row1_col4\" class=\"data row1 col4\" >0.0612978</td>\n",
       "                        <td id=\"T_d539d588_010a_11ea_8924_302432ac5020row1_col5\" class=\"data row1 col5\" >-0.0105038</td>\n",
       "                        <td id=\"T_d539d588_010a_11ea_8924_302432ac5020row1_col6\" class=\"data row1 col6\" >0.07647</td>\n",
       "                        <td id=\"T_d539d588_010a_11ea_8924_302432ac5020row1_col7\" class=\"data row1 col7\" >0.0220262</td>\n",
       "                        <td id=\"T_d539d588_010a_11ea_8924_302432ac5020row1_col8\" class=\"data row1 col8\" >0.234937</td>\n",
       "                        <td id=\"T_d539d588_010a_11ea_8924_302432ac5020row1_col9\" class=\"data row1 col9\" >-0.260987</td>\n",
       "                        <td id=\"T_d539d588_010a_11ea_8924_302432ac5020row1_col10\" class=\"data row1 col10\" >-0.202288</td>\n",
       "            </tr>\n",
       "            <tr>\n",
       "                        <th id=\"T_d539d588_010a_11ea_8924_302432ac5020level0_row2\" class=\"row_heading level0 row2\" >citric acid</th>\n",
       "                        <td id=\"T_d539d588_010a_11ea_8924_302432ac5020row2_col0\" class=\"data row2 col0\" >0.671703</td>\n",
       "                        <td id=\"T_d539d588_010a_11ea_8924_302432ac5020row2_col1\" class=\"data row2 col1\" >-0.552496</td>\n",
       "                        <td id=\"T_d539d588_010a_11ea_8924_302432ac5020row2_col2\" class=\"data row2 col2\" >1</td>\n",
       "                        <td id=\"T_d539d588_010a_11ea_8924_302432ac5020row2_col3\" class=\"data row2 col3\" >0.143577</td>\n",
       "                        <td id=\"T_d539d588_010a_11ea_8924_302432ac5020row2_col4\" class=\"data row2 col4\" >0.203823</td>\n",
       "                        <td id=\"T_d539d588_010a_11ea_8924_302432ac5020row2_col5\" class=\"data row2 col5\" >-0.0609781</td>\n",
       "                        <td id=\"T_d539d588_010a_11ea_8924_302432ac5020row2_col6\" class=\"data row2 col6\" >0.035533</td>\n",
       "                        <td id=\"T_d539d588_010a_11ea_8924_302432ac5020row2_col7\" class=\"data row2 col7\" >0.364947</td>\n",
       "                        <td id=\"T_d539d588_010a_11ea_8924_302432ac5020row2_col8\" class=\"data row2 col8\" >-0.541904</td>\n",
       "                        <td id=\"T_d539d588_010a_11ea_8924_302432ac5020row2_col9\" class=\"data row2 col9\" >0.31277</td>\n",
       "                        <td id=\"T_d539d588_010a_11ea_8924_302432ac5020row2_col10\" class=\"data row2 col10\" >0.109903</td>\n",
       "            </tr>\n",
       "            <tr>\n",
       "                        <th id=\"T_d539d588_010a_11ea_8924_302432ac5020level0_row3\" class=\"row_heading level0 row3\" >residual sugar</th>\n",
       "                        <td id=\"T_d539d588_010a_11ea_8924_302432ac5020row3_col0\" class=\"data row3 col0\" >0.114777</td>\n",
       "                        <td id=\"T_d539d588_010a_11ea_8924_302432ac5020row3_col1\" class=\"data row3 col1\" >0.00191788</td>\n",
       "                        <td id=\"T_d539d588_010a_11ea_8924_302432ac5020row3_col2\" class=\"data row3 col2\" >0.143577</td>\n",
       "                        <td id=\"T_d539d588_010a_11ea_8924_302432ac5020row3_col3\" class=\"data row3 col3\" >1</td>\n",
       "                        <td id=\"T_d539d588_010a_11ea_8924_302432ac5020row3_col4\" class=\"data row3 col4\" >0.0556095</td>\n",
       "                        <td id=\"T_d539d588_010a_11ea_8924_302432ac5020row3_col5\" class=\"data row3 col5\" >0.187049</td>\n",
       "                        <td id=\"T_d539d588_010a_11ea_8924_302432ac5020row3_col6\" class=\"data row3 col6\" >0.203028</td>\n",
       "                        <td id=\"T_d539d588_010a_11ea_8924_302432ac5020row3_col7\" class=\"data row3 col7\" >0.355283</td>\n",
       "                        <td id=\"T_d539d588_010a_11ea_8924_302432ac5020row3_col8\" class=\"data row3 col8\" >-0.0856524</td>\n",
       "                        <td id=\"T_d539d588_010a_11ea_8924_302432ac5020row3_col9\" class=\"data row3 col9\" >0.00552712</td>\n",
       "                        <td id=\"T_d539d588_010a_11ea_8924_302432ac5020row3_col10\" class=\"data row3 col10\" >0.0420754</td>\n",
       "            </tr>\n",
       "            <tr>\n",
       "                        <th id=\"T_d539d588_010a_11ea_8924_302432ac5020level0_row4\" class=\"row_heading level0 row4\" >chlorides</th>\n",
       "                        <td id=\"T_d539d588_010a_11ea_8924_302432ac5020row4_col0\" class=\"data row4 col0\" >0.0937052</td>\n",
       "                        <td id=\"T_d539d588_010a_11ea_8924_302432ac5020row4_col1\" class=\"data row4 col1\" >0.0612978</td>\n",
       "                        <td id=\"T_d539d588_010a_11ea_8924_302432ac5020row4_col2\" class=\"data row4 col2\" >0.203823</td>\n",
       "                        <td id=\"T_d539d588_010a_11ea_8924_302432ac5020row4_col3\" class=\"data row4 col3\" >0.0556095</td>\n",
       "                        <td id=\"T_d539d588_010a_11ea_8924_302432ac5020row4_col4\" class=\"data row4 col4\" >1</td>\n",
       "                        <td id=\"T_d539d588_010a_11ea_8924_302432ac5020row4_col5\" class=\"data row4 col5\" >0.00556215</td>\n",
       "                        <td id=\"T_d539d588_010a_11ea_8924_302432ac5020row4_col6\" class=\"data row4 col6\" >0.0474005</td>\n",
       "                        <td id=\"T_d539d588_010a_11ea_8924_302432ac5020row4_col7\" class=\"data row4 col7\" >0.200632</td>\n",
       "                        <td id=\"T_d539d588_010a_11ea_8924_302432ac5020row4_col8\" class=\"data row4 col8\" >-0.265026</td>\n",
       "                        <td id=\"T_d539d588_010a_11ea_8924_302432ac5020row4_col9\" class=\"data row4 col9\" >0.37126</td>\n",
       "                        <td id=\"T_d539d588_010a_11ea_8924_302432ac5020row4_col10\" class=\"data row4 col10\" >-0.221141</td>\n",
       "            </tr>\n",
       "            <tr>\n",
       "                        <th id=\"T_d539d588_010a_11ea_8924_302432ac5020level0_row5\" class=\"row_heading level0 row5\" >free sulfur dioxide</th>\n",
       "                        <td id=\"T_d539d588_010a_11ea_8924_302432ac5020row5_col0\" class=\"data row5 col0\" >-0.153794</td>\n",
       "                        <td id=\"T_d539d588_010a_11ea_8924_302432ac5020row5_col1\" class=\"data row5 col1\" >-0.0105038</td>\n",
       "                        <td id=\"T_d539d588_010a_11ea_8924_302432ac5020row5_col2\" class=\"data row5 col2\" >-0.0609781</td>\n",
       "                        <td id=\"T_d539d588_010a_11ea_8924_302432ac5020row5_col3\" class=\"data row5 col3\" >0.187049</td>\n",
       "                        <td id=\"T_d539d588_010a_11ea_8924_302432ac5020row5_col4\" class=\"data row5 col4\" >0.00556215</td>\n",
       "                        <td id=\"T_d539d588_010a_11ea_8924_302432ac5020row5_col5\" class=\"data row5 col5\" >1</td>\n",
       "                        <td id=\"T_d539d588_010a_11ea_8924_302432ac5020row5_col6\" class=\"data row5 col6\" >0.667666</td>\n",
       "                        <td id=\"T_d539d588_010a_11ea_8924_302432ac5020row5_col7\" class=\"data row5 col7\" >-0.0219458</td>\n",
       "                        <td id=\"T_d539d588_010a_11ea_8924_302432ac5020row5_col8\" class=\"data row5 col8\" >0.0703775</td>\n",
       "                        <td id=\"T_d539d588_010a_11ea_8924_302432ac5020row5_col9\" class=\"data row5 col9\" >0.0516576</td>\n",
       "                        <td id=\"T_d539d588_010a_11ea_8924_302432ac5020row5_col10\" class=\"data row5 col10\" >-0.0694084</td>\n",
       "            </tr>\n",
       "            <tr>\n",
       "                        <th id=\"T_d539d588_010a_11ea_8924_302432ac5020level0_row6\" class=\"row_heading level0 row6\" >total sulfur dioxide</th>\n",
       "                        <td id=\"T_d539d588_010a_11ea_8924_302432ac5020row6_col0\" class=\"data row6 col0\" >-0.113181</td>\n",
       "                        <td id=\"T_d539d588_010a_11ea_8924_302432ac5020row6_col1\" class=\"data row6 col1\" >0.07647</td>\n",
       "                        <td id=\"T_d539d588_010a_11ea_8924_302432ac5020row6_col2\" class=\"data row6 col2\" >0.035533</td>\n",
       "                        <td id=\"T_d539d588_010a_11ea_8924_302432ac5020row6_col3\" class=\"data row6 col3\" >0.203028</td>\n",
       "                        <td id=\"T_d539d588_010a_11ea_8924_302432ac5020row6_col4\" class=\"data row6 col4\" >0.0474005</td>\n",
       "                        <td id=\"T_d539d588_010a_11ea_8924_302432ac5020row6_col5\" class=\"data row6 col5\" >0.667666</td>\n",
       "                        <td id=\"T_d539d588_010a_11ea_8924_302432ac5020row6_col6\" class=\"data row6 col6\" >1</td>\n",
       "                        <td id=\"T_d539d588_010a_11ea_8924_302432ac5020row6_col7\" class=\"data row6 col7\" >0.0712695</td>\n",
       "                        <td id=\"T_d539d588_010a_11ea_8924_302432ac5020row6_col8\" class=\"data row6 col8\" >-0.0664946</td>\n",
       "                        <td id=\"T_d539d588_010a_11ea_8924_302432ac5020row6_col9\" class=\"data row6 col9\" >0.0429468</td>\n",
       "                        <td id=\"T_d539d588_010a_11ea_8924_302432ac5020row6_col10\" class=\"data row6 col10\" >-0.205654</td>\n",
       "            </tr>\n",
       "            <tr>\n",
       "                        <th id=\"T_d539d588_010a_11ea_8924_302432ac5020level0_row7\" class=\"row_heading level0 row7\" >density</th>\n",
       "                        <td id=\"T_d539d588_010a_11ea_8924_302432ac5020row7_col0\" class=\"data row7 col0\" >0.668047</td>\n",
       "                        <td id=\"T_d539d588_010a_11ea_8924_302432ac5020row7_col1\" class=\"data row7 col1\" >0.0220262</td>\n",
       "                        <td id=\"T_d539d588_010a_11ea_8924_302432ac5020row7_col2\" class=\"data row7 col2\" >0.364947</td>\n",
       "                        <td id=\"T_d539d588_010a_11ea_8924_302432ac5020row7_col3\" class=\"data row7 col3\" >0.355283</td>\n",
       "                        <td id=\"T_d539d588_010a_11ea_8924_302432ac5020row7_col4\" class=\"data row7 col4\" >0.200632</td>\n",
       "                        <td id=\"T_d539d588_010a_11ea_8924_302432ac5020row7_col5\" class=\"data row7 col5\" >-0.0219458</td>\n",
       "                        <td id=\"T_d539d588_010a_11ea_8924_302432ac5020row7_col6\" class=\"data row7 col6\" >0.0712695</td>\n",
       "                        <td id=\"T_d539d588_010a_11ea_8924_302432ac5020row7_col7\" class=\"data row7 col7\" >1</td>\n",
       "                        <td id=\"T_d539d588_010a_11ea_8924_302432ac5020row7_col8\" class=\"data row7 col8\" >-0.341699</td>\n",
       "                        <td id=\"T_d539d588_010a_11ea_8924_302432ac5020row7_col9\" class=\"data row7 col9\" >0.148506</td>\n",
       "                        <td id=\"T_d539d588_010a_11ea_8924_302432ac5020row7_col10\" class=\"data row7 col10\" >-0.49618</td>\n",
       "            </tr>\n",
       "            <tr>\n",
       "                        <th id=\"T_d539d588_010a_11ea_8924_302432ac5020level0_row8\" class=\"row_heading level0 row8\" >pH</th>\n",
       "                        <td id=\"T_d539d588_010a_11ea_8924_302432ac5020row8_col0\" class=\"data row8 col0\" >-0.682978</td>\n",
       "                        <td id=\"T_d539d588_010a_11ea_8924_302432ac5020row8_col1\" class=\"data row8 col1\" >0.234937</td>\n",
       "                        <td id=\"T_d539d588_010a_11ea_8924_302432ac5020row8_col2\" class=\"data row8 col2\" >-0.541904</td>\n",
       "                        <td id=\"T_d539d588_010a_11ea_8924_302432ac5020row8_col3\" class=\"data row8 col3\" >-0.0856524</td>\n",
       "                        <td id=\"T_d539d588_010a_11ea_8924_302432ac5020row8_col4\" class=\"data row8 col4\" >-0.265026</td>\n",
       "                        <td id=\"T_d539d588_010a_11ea_8924_302432ac5020row8_col5\" class=\"data row8 col5\" >0.0703775</td>\n",
       "                        <td id=\"T_d539d588_010a_11ea_8924_302432ac5020row8_col6\" class=\"data row8 col6\" >-0.0664946</td>\n",
       "                        <td id=\"T_d539d588_010a_11ea_8924_302432ac5020row8_col7\" class=\"data row8 col7\" >-0.341699</td>\n",
       "                        <td id=\"T_d539d588_010a_11ea_8924_302432ac5020row8_col8\" class=\"data row8 col8\" >1</td>\n",
       "                        <td id=\"T_d539d588_010a_11ea_8924_302432ac5020row8_col9\" class=\"data row8 col9\" >-0.196648</td>\n",
       "                        <td id=\"T_d539d588_010a_11ea_8924_302432ac5020row8_col10\" class=\"data row8 col10\" >0.205633</td>\n",
       "            </tr>\n",
       "            <tr>\n",
       "                        <th id=\"T_d539d588_010a_11ea_8924_302432ac5020level0_row9\" class=\"row_heading level0 row9\" >sulphates</th>\n",
       "                        <td id=\"T_d539d588_010a_11ea_8924_302432ac5020row9_col0\" class=\"data row9 col0\" >0.183006</td>\n",
       "                        <td id=\"T_d539d588_010a_11ea_8924_302432ac5020row9_col1\" class=\"data row9 col1\" >-0.260987</td>\n",
       "                        <td id=\"T_d539d588_010a_11ea_8924_302432ac5020row9_col2\" class=\"data row9 col2\" >0.31277</td>\n",
       "                        <td id=\"T_d539d588_010a_11ea_8924_302432ac5020row9_col3\" class=\"data row9 col3\" >0.00552712</td>\n",
       "                        <td id=\"T_d539d588_010a_11ea_8924_302432ac5020row9_col4\" class=\"data row9 col4\" >0.37126</td>\n",
       "                        <td id=\"T_d539d588_010a_11ea_8924_302432ac5020row9_col5\" class=\"data row9 col5\" >0.0516576</td>\n",
       "                        <td id=\"T_d539d588_010a_11ea_8924_302432ac5020row9_col6\" class=\"data row9 col6\" >0.0429468</td>\n",
       "                        <td id=\"T_d539d588_010a_11ea_8924_302432ac5020row9_col7\" class=\"data row9 col7\" >0.148506</td>\n",
       "                        <td id=\"T_d539d588_010a_11ea_8924_302432ac5020row9_col8\" class=\"data row9 col8\" >-0.196648</td>\n",
       "                        <td id=\"T_d539d588_010a_11ea_8924_302432ac5020row9_col9\" class=\"data row9 col9\" >1</td>\n",
       "                        <td id=\"T_d539d588_010a_11ea_8924_302432ac5020row9_col10\" class=\"data row9 col10\" >0.0935948</td>\n",
       "            </tr>\n",
       "            <tr>\n",
       "                        <th id=\"T_d539d588_010a_11ea_8924_302432ac5020level0_row10\" class=\"row_heading level0 row10\" >alcohol</th>\n",
       "                        <td id=\"T_d539d588_010a_11ea_8924_302432ac5020row10_col0\" class=\"data row10 col0\" >-0.0616683</td>\n",
       "                        <td id=\"T_d539d588_010a_11ea_8924_302432ac5020row10_col1\" class=\"data row10 col1\" >-0.202288</td>\n",
       "                        <td id=\"T_d539d588_010a_11ea_8924_302432ac5020row10_col2\" class=\"data row10 col2\" >0.109903</td>\n",
       "                        <td id=\"T_d539d588_010a_11ea_8924_302432ac5020row10_col3\" class=\"data row10 col3\" >0.0420754</td>\n",
       "                        <td id=\"T_d539d588_010a_11ea_8924_302432ac5020row10_col4\" class=\"data row10 col4\" >-0.221141</td>\n",
       "                        <td id=\"T_d539d588_010a_11ea_8924_302432ac5020row10_col5\" class=\"data row10 col5\" >-0.0694084</td>\n",
       "                        <td id=\"T_d539d588_010a_11ea_8924_302432ac5020row10_col6\" class=\"data row10 col6\" >-0.205654</td>\n",
       "                        <td id=\"T_d539d588_010a_11ea_8924_302432ac5020row10_col7\" class=\"data row10 col7\" >-0.49618</td>\n",
       "                        <td id=\"T_d539d588_010a_11ea_8924_302432ac5020row10_col8\" class=\"data row10 col8\" >0.205633</td>\n",
       "                        <td id=\"T_d539d588_010a_11ea_8924_302432ac5020row10_col9\" class=\"data row10 col9\" >0.0935948</td>\n",
       "                        <td id=\"T_d539d588_010a_11ea_8924_302432ac5020row10_col10\" class=\"data row10 col10\" >1</td>\n",
       "            </tr>\n",
       "    </tbody></table>"
      ],
      "text/plain": [
       "<pandas.io.formats.style.Styler at 0x2cb6eeb2a90>"
      ]
     },
     "execution_count": 10,
     "metadata": {},
     "output_type": "execute_result"
    }
   ],
   "source": [
    "# checking for correlation to remove features with high correlation\n",
    "import numpy as np\n",
    "\n",
    "corr = X_.corr()\n",
    "corr.style.background_gradient(cmap='coolwarm')"
   ]
  },
  {
   "cell_type": "markdown",
   "metadata": {},
   "source": [
    "`Moderately related and only 9 features, hence considering all`"
   ]
  },
  {
   "cell_type": "markdown",
   "metadata": {},
   "source": [
    "# Question - 1"
   ]
  },
  {
   "cell_type": "code",
   "execution_count": 16,
   "metadata": {},
   "outputs": [],
   "source": [
    "from sklearn.model_selection import train_test_split\n",
    "\n",
    "X_tr_, X_te_, y_tr, y_te = train_test_split(X_, y, stratify=y.values, test_size=0.2, random_state=0)"
   ]
  },
  {
   "cell_type": "code",
   "execution_count": 17,
   "metadata": {},
   "outputs": [],
   "source": [
    "red_scaler = StandardScaler()"
   ]
  },
  {
   "cell_type": "code",
   "execution_count": 23,
   "metadata": {},
   "outputs": [],
   "source": [
    "X_tr = red_scaler.fit_transform(X_tr_)\n",
    "X_te = red_scaler.transform(X_te_)"
   ]
  },
  {
   "cell_type": "code",
   "execution_count": 45,
   "metadata": {},
   "outputs": [
    {
     "name": "stderr",
     "output_type": "stream",
     "text": [
      "C:\\Users\\00004891\\AppData\\Local\\Continuum\\anaconda3\\lib\\site-packages\\sklearn\\linear_model\\logistic.py:469: FutureWarning: Default multi_class will be changed to 'auto' in 0.22. Specify the multi_class option to silence this warning.\n",
      "  \"this warning.\", FutureWarning)\n"
     ]
    }
   ],
   "source": [
    "from sklearn.linear_model import LogisticRegression\n",
    "\n",
    "lr_model = LogisticRegression(random_state=0, solver='newton-cg', penalty='none').fit(X_tr, y_tr)\n"
   ]
  },
  {
   "cell_type": "code",
   "execution_count": 46,
   "metadata": {},
   "outputs": [
    {
     "name": "stdout",
     "output_type": "stream",
     "text": [
      "train score - 0.599687255668491\n",
      "test score - 0.609375\n"
     ]
    }
   ],
   "source": [
    "print(f'train score - {lr_model.score(X_tr, y_tr)}')\n",
    "print(f'test score - {lr_model.score(X_te, y_t)}')"
   ]
  },
  {
   "cell_type": "markdown",
   "metadata": {},
   "source": [
    "`Seems not able to fit the model at all`"
   ]
  },
  {
   "cell_type": "code",
   "execution_count": 47,
   "metadata": {},
   "outputs": [
    {
     "data": {
      "text/plain": [
       "array([19, 12, 12, 11, 12, 13])"
      ]
     },
     "execution_count": 47,
     "metadata": {},
     "output_type": "execute_result"
    }
   ],
   "source": [
    "lr_model.n_iter_"
   ]
  },
  {
   "cell_type": "code",
   "execution_count": 48,
   "metadata": {},
   "outputs": [
    {
     "name": "stdout",
     "output_type": "stream",
     "text": [
      "Probabilities for a non regularised logistic regression-\n",
      "[[1.76961192e-04 2.36392700e-02 1.09670232e-01 5.91379906e-01\n",
      "  2.55070333e-01 2.00632968e-02]\n",
      " [1.09622634e-04 2.29114136e-02 2.24846963e-01 4.94687733e-01\n",
      "  2.33308221e-01 2.41360473e-02]\n",
      " [2.35866774e-05 3.16381232e-02 6.13408060e-01 3.32470439e-01\n",
      "  2.22328744e-02 2.26916862e-04]\n",
      " ...\n",
      " [1.73331590e-06 2.53909720e-02 7.73340980e-01 1.95803392e-01\n",
      "  5.43364427e-03 2.92779306e-05]\n",
      " [2.73628803e-04 2.27746677e-02 5.44975290e-01 4.02854852e-01\n",
      "  2.88182343e-02 3.03326980e-04]\n",
      " [7.78740144e-05 2.26061310e-02 5.86682160e-01 3.74915383e-01\n",
      "  1.55370746e-02 1.81377631e-04]]\n"
     ]
    }
   ],
   "source": [
    "# Answer - 1\n",
    "print('Probabilities for a non regularised logistic regression-')\n",
    "print(lr_model.predict_proba(X_te))"
   ]
  },
  {
   "cell_type": "markdown",
   "metadata": {},
   "source": [
    "# Making the task as binary class classification"
   ]
  },
  {
   "cell_type": "code",
   "execution_count": 124,
   "metadata": {},
   "outputs": [],
   "source": [
    "red_wine_modified = red_wine[feature_names]\n",
    "status_ = [1 if val>5 else 0 for val in red_wine['quality'].values]\n",
    "red_wine_modified['quality'] = status_"
   ]
  },
  {
   "cell_type": "code",
   "execution_count": 125,
   "metadata": {},
   "outputs": [
    {
     "data": {
      "text/html": [
       "<div>\n",
       "<style scoped>\n",
       "    .dataframe tbody tr th:only-of-type {\n",
       "        vertical-align: middle;\n",
       "    }\n",
       "\n",
       "    .dataframe tbody tr th {\n",
       "        vertical-align: top;\n",
       "    }\n",
       "\n",
       "    .dataframe thead th {\n",
       "        text-align: right;\n",
       "    }\n",
       "</style>\n",
       "<table border=\"1\" class=\"dataframe\">\n",
       "  <thead>\n",
       "    <tr style=\"text-align: right;\">\n",
       "      <th></th>\n",
       "      <th>fixed acidity</th>\n",
       "      <th>volatile acidity</th>\n",
       "      <th>citric acid</th>\n",
       "      <th>residual sugar</th>\n",
       "      <th>chlorides</th>\n",
       "      <th>free sulfur dioxide</th>\n",
       "      <th>total sulfur dioxide</th>\n",
       "      <th>density</th>\n",
       "      <th>pH</th>\n",
       "      <th>sulphates</th>\n",
       "      <th>alcohol</th>\n",
       "      <th>quality</th>\n",
       "    </tr>\n",
       "  </thead>\n",
       "  <tbody>\n",
       "    <tr>\n",
       "      <th>0</th>\n",
       "      <td>7.4</td>\n",
       "      <td>0.70</td>\n",
       "      <td>0.00</td>\n",
       "      <td>1.9</td>\n",
       "      <td>0.076</td>\n",
       "      <td>11.0</td>\n",
       "      <td>34.0</td>\n",
       "      <td>0.9978</td>\n",
       "      <td>3.51</td>\n",
       "      <td>0.56</td>\n",
       "      <td>9.4</td>\n",
       "      <td>0</td>\n",
       "    </tr>\n",
       "    <tr>\n",
       "      <th>1</th>\n",
       "      <td>7.8</td>\n",
       "      <td>0.88</td>\n",
       "      <td>0.00</td>\n",
       "      <td>2.6</td>\n",
       "      <td>0.098</td>\n",
       "      <td>25.0</td>\n",
       "      <td>67.0</td>\n",
       "      <td>0.9968</td>\n",
       "      <td>3.20</td>\n",
       "      <td>0.68</td>\n",
       "      <td>9.8</td>\n",
       "      <td>0</td>\n",
       "    </tr>\n",
       "    <tr>\n",
       "      <th>2</th>\n",
       "      <td>7.8</td>\n",
       "      <td>0.76</td>\n",
       "      <td>0.04</td>\n",
       "      <td>2.3</td>\n",
       "      <td>0.092</td>\n",
       "      <td>15.0</td>\n",
       "      <td>54.0</td>\n",
       "      <td>0.9970</td>\n",
       "      <td>3.26</td>\n",
       "      <td>0.65</td>\n",
       "      <td>9.8</td>\n",
       "      <td>0</td>\n",
       "    </tr>\n",
       "    <tr>\n",
       "      <th>3</th>\n",
       "      <td>11.2</td>\n",
       "      <td>0.28</td>\n",
       "      <td>0.56</td>\n",
       "      <td>1.9</td>\n",
       "      <td>0.075</td>\n",
       "      <td>17.0</td>\n",
       "      <td>60.0</td>\n",
       "      <td>0.9980</td>\n",
       "      <td>3.16</td>\n",
       "      <td>0.58</td>\n",
       "      <td>9.8</td>\n",
       "      <td>1</td>\n",
       "    </tr>\n",
       "    <tr>\n",
       "      <th>4</th>\n",
       "      <td>7.4</td>\n",
       "      <td>0.70</td>\n",
       "      <td>0.00</td>\n",
       "      <td>1.9</td>\n",
       "      <td>0.076</td>\n",
       "      <td>11.0</td>\n",
       "      <td>34.0</td>\n",
       "      <td>0.9978</td>\n",
       "      <td>3.51</td>\n",
       "      <td>0.56</td>\n",
       "      <td>9.4</td>\n",
       "      <td>0</td>\n",
       "    </tr>\n",
       "  </tbody>\n",
       "</table>\n",
       "</div>"
      ],
      "text/plain": [
       "   fixed acidity  volatile acidity  citric acid  residual sugar  chlorides  \\\n",
       "0            7.4              0.70         0.00             1.9      0.076   \n",
       "1            7.8              0.88         0.00             2.6      0.098   \n",
       "2            7.8              0.76         0.04             2.3      0.092   \n",
       "3           11.2              0.28         0.56             1.9      0.075   \n",
       "4            7.4              0.70         0.00             1.9      0.076   \n",
       "\n",
       "   free sulfur dioxide  total sulfur dioxide  density    pH  sulphates  \\\n",
       "0                 11.0                  34.0   0.9978  3.51       0.56   \n",
       "1                 25.0                  67.0   0.9968  3.20       0.68   \n",
       "2                 15.0                  54.0   0.9970  3.26       0.65   \n",
       "3                 17.0                  60.0   0.9980  3.16       0.58   \n",
       "4                 11.0                  34.0   0.9978  3.51       0.56   \n",
       "\n",
       "   alcohol  quality  \n",
       "0      9.4        0  \n",
       "1      9.8        0  \n",
       "2      9.8        0  \n",
       "3      9.8        1  \n",
       "4      9.4        0  "
      ]
     },
     "execution_count": 125,
     "metadata": {},
     "output_type": "execute_result"
    }
   ],
   "source": [
    "red_wine_modified.head()"
   ]
  },
  {
   "cell_type": "code",
   "execution_count": 126,
   "metadata": {},
   "outputs": [
    {
     "data": {
      "text/plain": [
       "1    855\n",
       "0    744\n",
       "Name: quality, dtype: int64"
      ]
     },
     "execution_count": 126,
     "metadata": {},
     "output_type": "execute_result"
    }
   ],
   "source": [
    "red_wine_modified.quality.value_counts()"
   ]
  },
  {
   "cell_type": "code",
   "execution_count": 129,
   "metadata": {},
   "outputs": [],
   "source": [
    "X_tr_, X_te_, y_tr, y_te = train_test_split(red_wine_modified[feature_names], red_wine_modified['quality'], stratify=red_wine_modified['quality'].values, test_size=0.2, random_state=0)\n",
    "red_scaler = StandardScaler()\n",
    "X_tr = red_scaler.fit_transform(X_tr_)\n",
    "X_te = red_scaler.transform(X_te_)"
   ]
  },
  {
   "cell_type": "code",
   "execution_count": 132,
   "metadata": {},
   "outputs": [],
   "source": [
    "lr_model = LogisticRegression(random_state=0, solver='newton-cg', penalty='none').fit(X_tr, y_tr)"
   ]
  },
  {
   "cell_type": "code",
   "execution_count": 135,
   "metadata": {},
   "outputs": [
    {
     "name": "stdout",
     "output_type": "stream",
     "text": [
      "train score - 0.7380766223612197\n",
      "test score - 0.76875\n"
     ]
    }
   ],
   "source": [
    "print(f'train score - {lr_model.score(X_tr, y_tr)}')\n",
    "print(f'test score - {lr_model.score(X_te, y_te)}')"
   ]
  },
  {
   "cell_type": "markdown",
   "metadata": {},
   "source": [
    "# PCA analysis"
   ]
  },
  {
   "cell_type": "code",
   "execution_count": 136,
   "metadata": {},
   "outputs": [],
   "source": [
    "from sklearn.decomposition import PCA\n",
    "\n",
    "n_components = X_te.shape[-1]\n",
    "pca = PCA()\n",
    "pca_data = pca.fit_transform(X_tr)"
   ]
  },
  {
   "cell_type": "code",
   "execution_count": 137,
   "metadata": {},
   "outputs": [
    {
     "data": {
      "text/plain": [
       "array([0.28239169, 0.17455105, 0.13982222, 0.11532686, 0.08650919,\n",
       "       0.05997523, 0.05203664, 0.03659334, 0.03170825, 0.01576526,\n",
       "       0.00532026])"
      ]
     },
     "execution_count": 137,
     "metadata": {},
     "output_type": "execute_result"
    }
   ],
   "source": [
    "pca.explained_variance_ratio_"
   ]
  },
  {
   "cell_type": "code",
   "execution_count": 1,
   "metadata": {},
   "outputs": [
    {
     "ename": "NameError",
     "evalue": "name 'pca_obj' is not defined",
     "output_type": "error",
     "traceback": [
      "\u001b[1;31m---------------------------------------------------------------------------\u001b[0m",
      "\u001b[1;31mNameError\u001b[0m                                 Traceback (most recent call last)",
      "\u001b[1;32m<ipython-input-1-ea131f1806ba>\u001b[0m in \u001b[0;36m<module>\u001b[1;34m\u001b[0m\n\u001b[0;32m      2\u001b[0m \u001b[1;33m\u001b[0m\u001b[0m\n\u001b[0;32m      3\u001b[0m \u001b[0mplt\u001b[0m\u001b[1;33m.\u001b[0m\u001b[0mclf\u001b[0m\u001b[1;33m(\u001b[0m\u001b[1;33m)\u001b[0m\u001b[1;33m\u001b[0m\u001b[1;33m\u001b[0m\u001b[0m\n\u001b[1;32m----> 4\u001b[1;33m \u001b[0mplt\u001b[0m\u001b[1;33m.\u001b[0m\u001b[0mplot\u001b[0m\u001b[1;33m(\u001b[0m\u001b[0mrange\u001b[0m\u001b[1;33m(\u001b[0m\u001b[1;36m1\u001b[0m\u001b[1;33m,\u001b[0m\u001b[0mpca_obj\u001b[0m\u001b[1;33m.\u001b[0m\u001b[0mn_components_\u001b[0m\u001b[1;33m+\u001b[0m\u001b[1;36m1\u001b[0m\u001b[1;33m)\u001b[0m\u001b[1;33m,\u001b[0m \u001b[0mnp\u001b[0m\u001b[1;33m.\u001b[0m\u001b[0mcumsum\u001b[0m\u001b[1;33m(\u001b[0m\u001b[0mpca\u001b[0m\u001b[1;33m.\u001b[0m\u001b[0mexplained_variance_ratio_\u001b[0m\u001b[1;33m)\u001b[0m\u001b[1;33m)\u001b[0m\u001b[1;33m\u001b[0m\u001b[1;33m\u001b[0m\u001b[0m\n\u001b[0m\u001b[0;32m      5\u001b[0m \u001b[0mplt\u001b[0m\u001b[1;33m.\u001b[0m\u001b[0mgrid\u001b[0m\u001b[1;33m(\u001b[0m\u001b[1;33m)\u001b[0m\u001b[1;33m\u001b[0m\u001b[1;33m\u001b[0m\u001b[0m\n\u001b[0;32m      6\u001b[0m \u001b[0mplt\u001b[0m\u001b[1;33m.\u001b[0m\u001b[0mxlabel\u001b[0m\u001b[1;33m(\u001b[0m\u001b[1;34m'Principal Components'\u001b[0m\u001b[1;33m)\u001b[0m\u001b[1;33m\u001b[0m\u001b[1;33m\u001b[0m\u001b[0m\n",
      "\u001b[1;31mNameError\u001b[0m: name 'pca_obj' is not defined"
     ]
    }
   ],
   "source": [
    "from matplotlib import pyplot as plt\n",
    "\n",
    "plt.clf()\n",
    "plt.plot(range(1,n_components+1), np.cumsum(pca.explained_variance_ratio_))\n",
    "plt.grid()\n",
    "plt.xlabel('Principal Components')\n",
    "plt.ylabel('Variance Preserved')\n",
    "plt.show()"
   ]
  },
  {
   "cell_type": "markdown",
   "metadata": {},
   "source": [
    "### From the above figure, It can be clearly explained that the 95% of variance is explained by 8 Principal components"
   ]
  },
  {
   "cell_type": "code",
   "execution_count": 84,
   "metadata": {},
   "outputs": [],
   "source": [
    "feature_names = list(red_wine.columns)[:-1]"
   ]
  },
  {
   "cell_type": "code",
   "execution_count": 139,
   "metadata": {},
   "outputs": [
    {
     "name": "stdout",
     "output_type": "stream",
     "text": [
      "In the first component the features are arranged as per their importance from high to low - \n",
      "\n",
      "['pH', 'volatile acidity', 'alcohol', 'free sulfur dioxide', 'total sulfur dioxide', 'residual sugar', 'chlorides', 'sulphates', 'density', 'citric acid', 'fixed acidity']\n"
     ]
    }
   ],
   "source": [
    "order = pca.components_[0].argsort()\n",
    "print(f\"In the first component the features are arranged as per their importance from high to low - \\n\\n{list(pd.Series(feature_names)[order])}\")"
   ]
  },
  {
   "cell_type": "code",
   "execution_count": 140,
   "metadata": {},
   "outputs": [
    {
     "name": "stdout",
     "output_type": "stream",
     "text": [
      "In the second component the features are arranged as per their importance from high to low - \n",
      "\n",
      "['alcohol', 'citric acid', 'fixed acidity', 'sulphates', 'pH', 'chlorides', 'density', 'residual sugar', 'volatile acidity', 'free sulfur dioxide', 'total sulfur dioxide']\n"
     ]
    }
   ],
   "source": [
    "order = pca.components_[1].argsort()\n",
    "print(f\"In the second component the features are arranged as per their importance from high to low - \\n\\n{list(pd.Series(feature_names)[order])}\")"
   ]
  },
  {
   "cell_type": "code",
   "execution_count": 141,
   "metadata": {},
   "outputs": [
    {
     "name": "stdout",
     "output_type": "stream",
     "text": [
      "In the third component the features are arranged as per their importance from high to low - \n",
      "\n",
      "['volatile acidity', 'density', 'fixed acidity', 'chlorides', 'pH', 'residual sugar', 'citric acid', 'sulphates', 'total sulfur dioxide', 'free sulfur dioxide', 'alcohol']\n"
     ]
    }
   ],
   "source": [
    "order = pca.components_[2].argsort()\n",
    "print(f\"In the third component the features are arranged as per their importance from high to low - \\n\\n{list(pd.Series(feature_names)[order])}\")"
   ]
  },
  {
   "cell_type": "markdown",
   "metadata": {},
   "source": [
    "# NMF decomposition"
   ]
  },
  {
   "cell_type": "code",
   "execution_count": 142,
   "metadata": {},
   "outputs": [],
   "source": [
    "from sklearn.decomposition import NMF\n",
    "\n",
    "nmf = NMF(random_state=0)\n",
    "w = nmf.fit_transform(red_wine_modified[feature_names])"
   ]
  },
  {
   "cell_type": "code",
   "execution_count": 144,
   "metadata": {},
   "outputs": [
    {
     "data": {
      "text/plain": [
       "(1599, 12)"
      ]
     },
     "execution_count": 144,
     "metadata": {},
     "output_type": "execute_result"
    }
   ],
   "source": [
    "red_wine_modified.shape"
   ]
  },
  {
   "cell_type": "code",
   "execution_count": 147,
   "metadata": {},
   "outputs": [],
   "source": [
    "h = nmf.components_"
   ]
  },
  {
   "cell_type": "code",
   "execution_count": 151,
   "metadata": {},
   "outputs": [],
   "source": [
    "# https://stackoverflow.com/questions/48148689/how-to-compare-predictive-power-of-pca-and-nmf\n",
    "from sklearn import metrics\n",
    "k = list(range(1, len(feature_names)+1))\n",
    "\n",
    "def get_score(model, data, scorer=metrics.explained_variance_score):\n",
    "    \"\"\" Estimate performance of the model on the data \"\"\"\n",
    "    prediction = model.inverse_transform(model.fit_transform(data))\n",
    "    return scorer(data, prediction)\n",
    "\n",
    "prefs = []\n",
    "for val in k:\n",
    "    prefs.append(get_score(NMF(n_components=val), red_wine[feature_names]))"
   ]
  },
  {
   "cell_type": "code",
   "execution_count": 154,
   "metadata": {},
   "outputs": [],
   "source": [
    "cum_sum = np.cumsum(np.array([abs(val) for val in prefs]))"
   ]
  },
  {
   "cell_type": "code",
   "execution_count": 159,
   "metadata": {},
   "outputs": [],
   "source": [
    "nmf_var_ratios = np.array([abs(val) for val in prefs])/abs(sum(prefs))"
   ]
  },
  {
   "cell_type": "code",
   "execution_count": 163,
   "metadata": {},
   "outputs": [
    {
     "data": {
      "image/png": "[encoded data removed]",
      "text/plain": [
       "<Figure size 432x288 with 1 Axes>"
      ]
     },
     "metadata": {
      "needs_background": "light"
     },
     "output_type": "display_data"
    }
   ],
   "source": [
    "plt.clf()\n",
    "plt.plot(range(1,n_components+1), np.cumsum(nmf_var_ratios))\n",
    "plt.title('NMF variance explanation')\n",
    "plt.grid()\n",
    "plt.xlabel('Principal Components')\n",
    "plt.ylabel('Variance Preserved')\n",
    "plt.show()"
   ]
  },
  {
   "cell_type": "markdown",
   "metadata": {},
   "source": [
    "### From the above plot, with four components of NMF the 95% of variance is preserved"
   ]
  },
  {
   "cell_type": "markdown",
   "metadata": {},
   "source": [
    "# Comparision of PCA, NMF and normalised dataset"
   ]
  },
  {
   "cell_type": "code",
   "execution_count": 188,
   "metadata": {},
   "outputs": [],
   "source": [
    "# normalised dataset\n",
    "lr_model = LogisticRegression(random_state=0, solver='newton-cg', penalty='none').fit(X_tr, y_tr)\n",
    "predictions_norm = lr_model.predict_proba(X_te)"
   ]
  },
  {
   "cell_type": "code",
   "execution_count": 191,
   "metadata": {},
   "outputs": [],
   "source": [
    "# PCA dataset\n",
    "pca_components = 8 #targeting to preserve 95% variance\n",
    "pca = PCA(n_components=pca_components)\n",
    "pca_data_train = pca.fit_transform(X_tr)\n",
    "pca_data_test = pca.fit_transform(X_te)\n",
    "\n",
    "# fitting on lr model\n",
    "lr_model = LogisticRegression(random_state=0, solver='newton-cg', penalty='none').fit(pca_data_train, y_tr)\n",
    "predictions_pca = lr_model.predict_proba(pca_data_test)"
   ]
  },
  {
   "cell_type": "code",
   "execution_count": 192,
   "metadata": {},
   "outputs": [],
   "source": [
    "# NMF dataset\n",
    "nmf_components = 4 #targeting to preserve 95% variance\n",
    "\n",
    "# as the standardised data set have -ve values, need to scale it to get +ves\n",
    "X_tr_, X_te_, y_tr, y_te = train_test_split(red_wine_modified[feature_names], red_wine_modified['quality'], stratify=red_wine_modified['quality'].values, test_size=0.2, random_state=0)\n",
    "# red_scaler_nmf = StandardScaler(with_mean=False)\n",
    "# X_tr_nmf = red_scaler_nmf.fit_transform(X_tr_)\n",
    "# X_te_nmf = red_scaler_nmf.transform(X_te_)\n",
    "\n",
    "\n",
    "nmf = NMF(n_components=nmf_components)\n",
    "nmf_data_train = nmf.fit_transform(X_tr_)\n",
    "nmf_data_test = nmf.fit_transform(X_te_)\n",
    "\n",
    "# fitting on lr model\n",
    "lr_model = LogisticRegression(random_state=0, solver='newton-cg', penalty='none').fit(nmf_data_train, y_tr)\n",
    "predictions_nmf = lr_model.predict_proba(nmf_data_test)"
   ]
  },
  {
   "cell_type": "code",
   "execution_count": 203,
   "metadata": {},
   "outputs": [],
   "source": [
    "fpr_norm, tpr_norm, _ = metrics.roc_curve(y_te,  predictions_norm[:,1])\n",
    "auc_norm = metrics.roc_auc_score(y_te,  predictions_norm[:,1])\n",
    "\n",
    "fpr_pca, tpr_pca, _ = metrics.roc_curve(y_te,  predictions_pca[:,1])\n",
    "auc_pca = metrics.roc_auc_score(y_te,  predictions_pca[:,1])\n",
    "\n",
    "fpr_nmf, tpr_nmf, _ = metrics.roc_curve(y_te,  predictions_nmf[:,1])\n",
    "auc_nmf = metrics.roc_auc_score(y_te,  predictions_nmf[:,1])"
   ]
  },
  {
   "cell_type": "code",
   "execution_count": 206,
   "metadata": {},
   "outputs": [
    {
     "data": {
      "text/plain": [
       "Text(0.5, 1.0, 'Performance Comparision of PCA, NMF and standard datasets')"
      ]
     },
     "execution_count": 206,
     "metadata": {},
     "output_type": "execute_result"
    },
    {
     "data": {
      "image/png": "[encoded data removed]",
      "text/plain": [
       "<Figure size 432x288 with 1 Axes>"
      ]
     },
     "metadata": {
      "needs_background": "light"
     },
     "output_type": "display_data"
    }
   ],
   "source": [
    "# plt.plot(fpr,tpr,label=\"data 1, auc=\"+str(auc))\n",
    "# plt.legend(loc=4)\n",
    "# plt.show()\n",
    "\n",
    "plt.plot(fpr_norm, tpr_norm, label=\"standard, auc=\"+str(auc_norm),color='r') # plotting t, a separately \n",
    "plt.plot(fpr_pca, tpr_pca, label=\"PCA, auc=\"+str(auc_pca),color='b') # plotting t, a separately \n",
    "plt.plot(fpr_nmf, tpr_nmf, label=\"NMF, auc=\"+str(auc_nmf),color='g') # plotting t, a separately \n",
    "plt.legend(loc=4)\n",
    "plt.title('Performance Comparision of PCA, NMF and standard datasets')"
   ]
  },
  {
   "cell_type": "markdown",
   "metadata": {},
   "source": [
    "### Conclusions from the above plot\n",
    "1. The standard scaled dataset is performing better than dimensions reduced dataset.\n",
    "2. PCA has slight edge in the performance than the NMF dataset.\n"
   ]
  },
  {
   "cell_type": "markdown",
   "metadata": {},
   "source": [
    "# Question - 3"
   ]
  },
  {
   "cell_type": "code",
   "execution_count": 207,
   "metadata": {},
   "outputs": [],
   "source": [
    "num_rounds = [50, 100, 150],\n",
    "learning_rate = [0.05, 0.1, 0.3] \n",
    "max_depth = [3, 7, 10]"
   ]
  },
  {
   "cell_type": "code",
   "execution_count": 223,
   "metadata": {},
   "outputs": [
    {
     "data": {
      "text/plain": [
       "GridSearchCV(cv=5, error_score='raise-deprecating',\n",
       "             estimator=XGBClassifier(base_score=0.5, booster='gbtree',\n",
       "                                     colsample_bylevel=1, colsample_bynode=1,\n",
       "                                     colsample_bytree=1, gamma=0,\n",
       "                                     learning_rate=0.1, max_delta_step=0,\n",
       "                                     max_depth=3, min_child_weight=1,\n",
       "                                     missing=None, n_estimators=100, n_jobs=1,\n",
       "                                     nthread=None, objective='binary:logistic',\n",
       "                                     random_state=0, reg_alpha=0, reg_lambda=1,\n",
       "                                     scale_pos_weight=1, seed=None, silent=None,\n",
       "                                     subsample=1, verbosity=1),\n",
       "             iid='warn', n_jobs=None,\n",
       "             param_grid={'learning_rate': [0.05, 0.1, 0.3],\n",
       "                         'max_depth': [3, 7, 10]},\n",
       "             pre_dispatch='2*n_jobs', refit=True, return_train_score=False,\n",
       "             scoring=None, verbose=0)"
      ]
     },
     "execution_count": 223,
     "metadata": {},
     "output_type": "execute_result"
    }
   ],
   "source": [
    "# XGboost using scikit-learn api\n",
    "import xgboost as xgb\n",
    "from sklearn.model_selection import KFold, GridSearchCV\n",
    "from sklearn.metrics import confusion_matrix\n",
    "\n",
    "kf = KFold(n_splits=2, shuffle=True, random_state=10)\n",
    "parameters = {'max_depth':max_depth, 'learning_rate': learning_rate}\n",
    "grid_search_obj = GridSearchCV(xgb.XGBClassifier(), parameters, cv=5)\n",
    "grid_search_obj.fit(X_tr, y_tr)"
   ]
  },
  {
   "cell_type": "code",
   "execution_count": 227,
   "metadata": {},
   "outputs": [
    {
     "data": {
      "text/html": [
       "<div>\n",
       "<style scoped>\n",
       "    .dataframe tbody tr th:only-of-type {\n",
       "        vertical-align: middle;\n",
       "    }\n",
       "\n",
       "    .dataframe tbody tr th {\n",
       "        vertical-align: top;\n",
       "    }\n",
       "\n",
       "    .dataframe thead th {\n",
       "        text-align: right;\n",
       "    }\n",
       "</style>\n",
       "<table border=\"1\" class=\"dataframe\">\n",
       "  <thead>\n",
       "    <tr style=\"text-align: right;\">\n",
       "      <th></th>\n",
       "      <th>mean_fit_time</th>\n",
       "      <th>std_fit_time</th>\n",
       "      <th>mean_score_time</th>\n",
       "      <th>std_score_time</th>\n",
       "      <th>param_learning_rate</th>\n",
       "      <th>param_max_depth</th>\n",
       "      <th>params</th>\n",
       "      <th>split0_test_score</th>\n",
       "      <th>split1_test_score</th>\n",
       "      <th>split2_test_score</th>\n",
       "      <th>split3_test_score</th>\n",
       "      <th>split4_test_score</th>\n",
       "      <th>mean_test_score</th>\n",
       "      <th>std_test_score</th>\n",
       "      <th>rank_test_score</th>\n",
       "    </tr>\n",
       "  </thead>\n",
       "  <tbody>\n",
       "    <tr>\n",
       "      <th>0</th>\n",
       "      <td>0.080607</td>\n",
       "      <td>0.002578</td>\n",
       "      <td>0.001400</td>\n",
       "      <td>0.000489</td>\n",
       "      <td>0.05</td>\n",
       "      <td>3</td>\n",
       "      <td>{'learning_rate': 0.05, 'max_depth': 3}</td>\n",
       "      <td>0.773438</td>\n",
       "      <td>0.773438</td>\n",
       "      <td>0.746094</td>\n",
       "      <td>0.746094</td>\n",
       "      <td>0.784314</td>\n",
       "      <td>0.764660</td>\n",
       "      <td>0.015679</td>\n",
       "      <td>9</td>\n",
       "    </tr>\n",
       "    <tr>\n",
       "      <th>1</th>\n",
       "      <td>0.178611</td>\n",
       "      <td>0.009366</td>\n",
       "      <td>0.002198</td>\n",
       "      <td>0.000402</td>\n",
       "      <td>0.05</td>\n",
       "      <td>7</td>\n",
       "      <td>{'learning_rate': 0.05, 'max_depth': 7}</td>\n",
       "      <td>0.777344</td>\n",
       "      <td>0.796875</td>\n",
       "      <td>0.792969</td>\n",
       "      <td>0.777344</td>\n",
       "      <td>0.788235</td>\n",
       "      <td>0.786552</td>\n",
       "      <td>0.008005</td>\n",
       "      <td>2</td>\n",
       "    </tr>\n",
       "    <tr>\n",
       "      <th>2</th>\n",
       "      <td>0.243401</td>\n",
       "      <td>0.002060</td>\n",
       "      <td>0.002794</td>\n",
       "      <td>0.000396</td>\n",
       "      <td>0.05</td>\n",
       "      <td>10</td>\n",
       "      <td>{'learning_rate': 0.05, 'max_depth': 10}</td>\n",
       "      <td>0.777344</td>\n",
       "      <td>0.796875</td>\n",
       "      <td>0.789062</td>\n",
       "      <td>0.796875</td>\n",
       "      <td>0.784314</td>\n",
       "      <td>0.788898</td>\n",
       "      <td>0.007509</td>\n",
       "      <td>1</td>\n",
       "    </tr>\n",
       "    <tr>\n",
       "      <th>3</th>\n",
       "      <td>0.076413</td>\n",
       "      <td>0.000491</td>\n",
       "      <td>0.001187</td>\n",
       "      <td>0.000388</td>\n",
       "      <td>0.1</td>\n",
       "      <td>3</td>\n",
       "      <td>{'learning_rate': 0.1, 'max_depth': 3}</td>\n",
       "      <td>0.777344</td>\n",
       "      <td>0.769531</td>\n",
       "      <td>0.761719</td>\n",
       "      <td>0.753906</td>\n",
       "      <td>0.784314</td>\n",
       "      <td>0.769351</td>\n",
       "      <td>0.010809</td>\n",
       "      <td>7</td>\n",
       "    </tr>\n",
       "    <tr>\n",
       "      <th>4</th>\n",
       "      <td>0.165608</td>\n",
       "      <td>0.002799</td>\n",
       "      <td>0.002002</td>\n",
       "      <td>0.000006</td>\n",
       "      <td>0.1</td>\n",
       "      <td>7</td>\n",
       "      <td>{'learning_rate': 0.1, 'max_depth': 7}</td>\n",
       "      <td>0.781250</td>\n",
       "      <td>0.777344</td>\n",
       "      <td>0.773438</td>\n",
       "      <td>0.789062</td>\n",
       "      <td>0.772549</td>\n",
       "      <td>0.778733</td>\n",
       "      <td>0.006021</td>\n",
       "      <td>6</td>\n",
       "    </tr>\n",
       "    <tr>\n",
       "      <th>5</th>\n",
       "      <td>0.226199</td>\n",
       "      <td>0.001953</td>\n",
       "      <td>0.002809</td>\n",
       "      <td>0.000404</td>\n",
       "      <td>0.1</td>\n",
       "      <td>10</td>\n",
       "      <td>{'learning_rate': 0.1, 'max_depth': 10}</td>\n",
       "      <td>0.792969</td>\n",
       "      <td>0.785156</td>\n",
       "      <td>0.777344</td>\n",
       "      <td>0.757812</td>\n",
       "      <td>0.803922</td>\n",
       "      <td>0.783425</td>\n",
       "      <td>0.015534</td>\n",
       "      <td>4</td>\n",
       "    </tr>\n",
       "    <tr>\n",
       "      <th>6</th>\n",
       "      <td>0.076191</td>\n",
       "      <td>0.000386</td>\n",
       "      <td>0.001211</td>\n",
       "      <td>0.000400</td>\n",
       "      <td>0.3</td>\n",
       "      <td>3</td>\n",
       "      <td>{'learning_rate': 0.3, 'max_depth': 3}</td>\n",
       "      <td>0.789062</td>\n",
       "      <td>0.789062</td>\n",
       "      <td>0.773438</td>\n",
       "      <td>0.761719</td>\n",
       "      <td>0.788235</td>\n",
       "      <td>0.780297</td>\n",
       "      <td>0.011037</td>\n",
       "      <td>5</td>\n",
       "    </tr>\n",
       "    <tr>\n",
       "      <th>7</th>\n",
       "      <td>0.154789</td>\n",
       "      <td>0.000996</td>\n",
       "      <td>0.002008</td>\n",
       "      <td>0.000017</td>\n",
       "      <td>0.3</td>\n",
       "      <td>7</td>\n",
       "      <td>{'learning_rate': 0.3, 'max_depth': 7}</td>\n",
       "      <td>0.765625</td>\n",
       "      <td>0.777344</td>\n",
       "      <td>0.761719</td>\n",
       "      <td>0.746094</td>\n",
       "      <td>0.788235</td>\n",
       "      <td>0.767787</td>\n",
       "      <td>0.014288</td>\n",
       "      <td>8</td>\n",
       "    </tr>\n",
       "    <tr>\n",
       "      <th>8</th>\n",
       "      <td>0.186188</td>\n",
       "      <td>0.001170</td>\n",
       "      <td>0.002611</td>\n",
       "      <td>0.000499</td>\n",
       "      <td>0.3</td>\n",
       "      <td>10</td>\n",
       "      <td>{'learning_rate': 0.3, 'max_depth': 10}</td>\n",
       "      <td>0.773438</td>\n",
       "      <td>0.792969</td>\n",
       "      <td>0.785156</td>\n",
       "      <td>0.773438</td>\n",
       "      <td>0.796078</td>\n",
       "      <td>0.784206</td>\n",
       "      <td>0.009491</td>\n",
       "      <td>3</td>\n",
       "    </tr>\n",
       "  </tbody>\n",
       "</table>\n",
       "</div>"
      ],
      "text/plain": [
       "   mean_fit_time  std_fit_time  mean_score_time  std_score_time  \\\n",
       "0       0.080607      0.002578         0.001400        0.000489   \n",
       "1       0.178611      0.009366         0.002198        0.000402   \n",
       "2       0.243401      0.002060         0.002794        0.000396   \n",
       "3       0.076413      0.000491         0.001187        0.000388   \n",
       "4       0.165608      0.002799         0.002002        0.000006   \n",
       "5       0.226199      0.001953         0.002809        0.000404   \n",
       "6       0.076191      0.000386         0.001211        0.000400   \n",
       "7       0.154789      0.000996         0.002008        0.000017   \n",
       "8       0.186188      0.001170         0.002611        0.000499   \n",
       "\n",
       "  param_learning_rate param_max_depth  \\\n",
       "0                0.05               3   \n",
       "1                0.05               7   \n",
       "2                0.05              10   \n",
       "3                 0.1               3   \n",
       "4                 0.1               7   \n",
       "5                 0.1              10   \n",
       "6                 0.3               3   \n",
       "7                 0.3               7   \n",
       "8                 0.3              10   \n",
       "\n",
       "                                     params  split0_test_score  \\\n",
       "0   {'learning_rate': 0.05, 'max_depth': 3}           0.773438   \n",
       "1   {'learning_rate': 0.05, 'max_depth': 7}           0.777344   \n",
       "2  {'learning_rate': 0.05, 'max_depth': 10}           0.777344   \n",
       "3    {'learning_rate': 0.1, 'max_depth': 3}           0.777344   \n",
       "4    {'learning_rate': 0.1, 'max_depth': 7}           0.781250   \n",
       "5   {'learning_rate': 0.1, 'max_depth': 10}           0.792969   \n",
       "6    {'learning_rate': 0.3, 'max_depth': 3}           0.789062   \n",
       "7    {'learning_rate': 0.3, 'max_depth': 7}           0.765625   \n",
       "8   {'learning_rate': 0.3, 'max_depth': 10}           0.773438   \n",
       "\n",
       "   split1_test_score  split2_test_score  split3_test_score  split4_test_score  \\\n",
       "0           0.773438           0.746094           0.746094           0.784314   \n",
       "1           0.796875           0.792969           0.777344           0.788235   \n",
       "2           0.796875           0.789062           0.796875           0.784314   \n",
       "3           0.769531           0.761719           0.753906           0.784314   \n",
       "4           0.777344           0.773438           0.789062           0.772549   \n",
       "5           0.785156           0.777344           0.757812           0.803922   \n",
       "6           0.789062           0.773438           0.761719           0.788235   \n",
       "7           0.777344           0.761719           0.746094           0.788235   \n",
       "8           0.792969           0.785156           0.773438           0.796078   \n",
       "\n",
       "   mean_test_score  std_test_score  rank_test_score  \n",
       "0         0.764660        0.015679                9  \n",
       "1         0.786552        0.008005                2  \n",
       "2         0.788898        0.007509                1  \n",
       "3         0.769351        0.010809                7  \n",
       "4         0.778733        0.006021                6  \n",
       "5         0.783425        0.015534                4  \n",
       "6         0.780297        0.011037                5  \n",
       "7         0.767787        0.014288                8  \n",
       "8         0.784206        0.009491                3  "
      ]
     },
     "execution_count": 227,
     "metadata": {},
     "output_type": "execute_result"
    }
   ],
   "source": [
    "# Results table for parameter tuning\n",
    "pd.DataFrame(grid_search_obj.cv_results_)"
   ]
  },
  {
   "cell_type": "code",
   "execution_count": 224,
   "metadata": {},
   "outputs": [
    {
     "data": {
      "text/plain": [
       "XGBClassifier(base_score=0.5, booster='gbtree', colsample_bylevel=1,\n",
       "              colsample_bynode=1, colsample_bytree=1, gamma=0,\n",
       "              learning_rate=0.05, max_delta_step=0, max_depth=10,\n",
       "              min_child_weight=1, missing=None, n_estimators=100, n_jobs=1,\n",
       "              nthread=None, objective='binary:logistic', random_state=0,\n",
       "              reg_alpha=0, reg_lambda=1, scale_pos_weight=1, seed=None,\n",
       "              silent=None, subsample=1, verbosity=1)"
      ]
     },
     "execution_count": 224,
     "metadata": {},
     "output_type": "execute_result"
    }
   ],
   "source": [
    "grid_search_obj.best_estimator_"
   ]
  },
  {
   "cell_type": "code",
   "execution_count": 225,
   "metadata": {},
   "outputs": [
    {
     "data": {
      "text/plain": [
       "0.9992181391712275"
      ]
     },
     "execution_count": 225,
     "metadata": {},
     "output_type": "execute_result"
    }
   ],
   "source": [
    "grid_search_obj.score(X_tr, y_tr)"
   ]
  },
  {
   "cell_type": "code",
   "execution_count": 226,
   "metadata": {},
   "outputs": [
    {
     "data": {
      "text/plain": [
       "0.8"
      ]
     },
     "execution_count": 226,
     "metadata": {},
     "output_type": "execute_result"
    }
   ],
   "source": [
    "grid_search_obj.score(X_te, y_te)"
   ]
  },
  {
   "cell_type": "markdown",
   "metadata": {},
   "source": [
    "### Overfitted a little. But still does very good job on comparing the scores "
   ]
  },
  {
   "cell_type": "code",
   "execution_count": 228,
   "metadata": {},
   "outputs": [],
   "source": [
    "from sklearn.decomposition import PCA\n",
    "\n",
    "n_components = X_te.shape[-1]\n",
    "pca = PCA(n_components=2)\n",
    "pca_data = pca.fit_transform(X_tr)"
   ]
  },
  {
   "cell_type": "code",
   "execution_count": 231,
   "metadata": {},
   "outputs": [],
   "source": [
    "df = pd.DataFrame(pca_data, columns=['comp1', 'comp2'])\n",
    "df['quality'] = y_tr"
   ]
  },
  {
   "cell_type": "code",
   "execution_count": 232,
   "metadata": {},
   "outputs": [
    {
     "name": "stderr",
     "output_type": "stream",
     "text": [
      "C:\\Users\\00004891\\AppData\\Local\\Continuum\\anaconda3\\lib\\site-packages\\seaborn\\axisgrid.py:230: UserWarning: The `size` paramter has been renamed to `height`; please update your code.\n",
      "  warnings.warn(msg, UserWarning)\n"
     ]
    },
    {
     "data": {
      "text/plain": [
       "<seaborn.axisgrid.FacetGrid at 0x2cb76b1e978>"
      ]
     },
     "execution_count": 232,
     "metadata": {},
     "output_type": "execute_result"
    },
    {
     "data": {
      "image/png": "[encoded data removed]",
      "text/plain": [
       "<Figure size 483.875x432 with 1 Axes>"
      ]
     },
     "metadata": {
      "needs_background": "light"
     },
     "output_type": "display_data"
    }
   ],
   "source": [
    "import seaborn as sn\n",
    "sn.FacetGrid(df, hue='quality', size=6).map(plt.scatter, 'comp1', 'comp2').add_legend()"
   ]
  },
  {
   "cell_type": "markdown",
   "metadata": {},
   "source": [
    "# Question - 2"
   ]
  },
  {
   "cell_type": "code",
   "execution_count": 245,
   "metadata": {},
   "outputs": [],
   "source": [
    "import argparse\n",
    "import numpy as np\n",
    "import pandas as pd\n",
    "from random import randrange\n",
    "from sklearn.metrics import accuracy_score\n",
    "\n",
    "\n",
    "class RandomForest(object):\n",
    "    nest = 0           # number of trees\n",
    "    maxFeat = 0        # maximum number of features\n",
    "    maxDepth = 0       # maximum depth of the decision tree\n",
    "    minLeafSample = 0  # minimum number of samples in a leaf\n",
    "    criterion = None   # splitting criterion\n",
    "\n",
    "    def __init__(self, nest, maxFeat, criterion, maxDepth, minLeafSample):\n",
    "        \"\"\"\n",
    "        Decision tree constructor\n",
    "\n",
    "        Parameters\n",
    "        ----------\n",
    "        nest: int\n",
    "            Number of trees to have in the forest\n",
    "        maxFeat: int\n",
    "            Maximum number of features to consider in each tree\n",
    "        criterion : String\n",
    "            The function to measure the quality of a split.\n",
    "            Supported criteria are \"gini\" for the Gini impurity\n",
    "            and \"entropy\" for the information gain.\n",
    "        maxDepth : int \n",
    "            Maximum depth of the decision tree\n",
    "        minLeafSample : int \n",
    "            Minimum number of samples in the decision tree\n",
    "        \"\"\"\n",
    "        self.nest = nest\n",
    "        self.criterion = criterion\n",
    "        self.maxFeat = maxFeat\n",
    "        self.maxDepth = maxDepth\n",
    "        self.minLeafSample = minLeafSample\n",
    "        self.featsize = 4 if maxFeat>4 else maxFeat\n",
    "        self.trees = [self.create_tree() for i in range(n_trees)]\n",
    "\n",
    "    def train(self, xFeat, y):\n",
    "        \"\"\"\n",
    "        Train the random forest using the data\n",
    "\n",
    "        Parameters\n",
    "        ----------\n",
    "        xFeat : nd-array with shape n x d\n",
    "            Training data \n",
    "        y : 1d array with shape n\n",
    "            Array of responses associated with training data.\n",
    "\n",
    "        Returns\n",
    "        -------\n",
    "        stats : object\n",
    "            Keys represent the number of trees and\n",
    "            the values are the out of bag errors\n",
    "        \"\"\"\n",
    "        sample_ratio = 0.8\n",
    "        total_sample_points = round(len(xFeat)*sample_ratio)\n",
    "        trees_ = []\n",
    "        oob_scores = []\n",
    "        for tree in self.trees:\n",
    "            X_sample, y_sample = [], []\n",
    "            idxs_ = []\n",
    "            for _ in range(total_sample_points):\n",
    "                idx = randrange(len(xFeat))\n",
    "                idxs_.append(idx)\n",
    "                X_sample.append(xFeat[idx])\n",
    "                y_sample.append(y[idx])\n",
    "            X, y = np.array(X_sample), np.array(y_sample)\n",
    "            tree.fit(X,y)\n",
    "            leftover_idxs = set(range(len(xFeat))).difference(set(idxs_))\n",
    "            X_c, y_c = xFeat[leftover_idxs], y[leftover_idxs]\n",
    "            preds = tree.predict(X_c, y_c)\n",
    "    \n",
    "\n",
    "    def create_tree(self):\n",
    "        return DecisionTree(self.n_features, depth = self.maxDepth, min_leaf=self.minLeafSample)\n",
    "    \n",
    "    def predict(self, xFeat):\n",
    "        \"\"\"\n",
    "        Given the feature set xFeat, predict \n",
    "        what class the values will have.\n",
    "\n",
    "        Parameters\n",
    "        ----------\n",
    "        xFeat : nd-array with shape m x d\n",
    "            The data to predict.  \n",
    "\n",
    "        Returns\n",
    "        -------\n",
    "        yHat : 1d array or list with shape m\n",
    "            Predicted response per sample\n",
    "        \"\"\"\n",
    "        yHat = np.mean([t.predict(x) for t in self.trees], axis=0)\n",
    "        return yHat\n",
    "\n",
    "\n",
    "def file_to_numpy(filename):\n",
    "    \"\"\"\n",
    "    Read an input file and convert it to numpy\n",
    "    \"\"\"\n",
    "    df = pd.read_csv(filename)\n",
    "    return df.to_numpy()\n",
    "\n",
    "\n",
    "def main():\n",
    "    \"\"\"\n",
    "    Main file to run from the command line.\n",
    "    \"\"\"\n",
    "    # set up the program to take in arguments from the command line\n",
    "    parser = argparse.ArgumentParser()\n",
    "    parser.add_argument(\"xTrain\",\n",
    "                        help=\"filename for features of the training data\")\n",
    "    parser.add_argument(\"yTrain\",\n",
    "                        help=\"filename for labels associated with training data\")\n",
    "    parser.add_argument(\"xTest\",\n",
    "                        help=\"filename for features of the test data\")\n",
    "    parser.add_argument(\"yTest\",\n",
    "                        help=\"filename for labels associated with the test data\")\n",
    "    parser.add_argument(\"epoch\", type=int, help=\"max number of epochs\")\n",
    "    parser.add_argument(\"--seed\", default=334, \n",
    "                        type=int, help=\"default seed number\")\n",
    "    \n",
    "    args = parser.parse_args()\n",
    "    # load the train and test data assumes you'll use numpy\n",
    "    xTrain = file_to_numpy(args.xTrain)\n",
    "    yTrain = file_to_numpy(args.yTrain)\n",
    "    xTest = file_to_numpy(args.xTest)\n",
    "    yTest = file_to_numpy(args.yTest)\n",
    "\n",
    "    np.random.seed(args.seed)   \n",
    "    model = RandomForest(args.epoch)\n",
    "    trainStats = model.train(xTrain, yTrain)\n",
    "    print(trainStats)\n",
    "    yHat = model.predict(xTest)\n",
    "\n",
    "\n",
    "if __name__ == \"__main__\":\n",
    "    pass"
   ]
  },
  {
   "cell_type": "code",
   "execution_count": null,
   "metadata": {},
   "outputs": [],
   "source": []
  },
  {
   "cell_type": "code",
   "execution_count": null,
   "metadata": {},
   "outputs": [],
   "source": []
  },
  {
   "cell_type": "code",
   "execution_count": 235,
   "metadata": {},
   "outputs": [],
   "source": [
    "from sklearn.tree import DecisionTreeClassifier\n",
    "\n",
    "clf = DecisionTreeClassifier().fit(X_tr, y_tr)"
   ]
  },
  {
   "cell_type": "code",
   "execution_count": 238,
   "metadata": {},
   "outputs": [],
   "source": [
    "preds = [clf.predict(X_te) for _ in range(5)]"
   ]
  },
  {
   "cell_type": "code",
   "execution_count": 242,
   "metadata": {},
   "outputs": [
    {
     "data": {
      "text/plain": [
       "array([0.5375, 0.5375, 0.5375, 0.5375, 0.5375])"
      ]
     },
     "execution_count": 242,
     "metadata": {},
     "output_type": "execute_result"
    }
   ],
   "source": [
    "np.mean(preds, axis=1)"
   ]
  },
  {
   "cell_type": "code",
   "execution_count": 243,
   "metadata": {},
   "outputs": [
    {
     "data": {
      "text/plain": [
       "[array([0, 0, 0, 0, 0, 0, 1, 1, 0, 0, 0, 1, 0, 1, 1, 1, 0, 1, 0, 1, 0, 1,\n",
       "        0, 0, 1, 1, 0, 1, 1, 0, 1, 1, 0, 1, 1, 0, 0, 1, 1, 1, 1, 0, 1, 1,\n",
       "        0, 0, 0, 1, 1, 0, 0, 1, 0, 0, 0, 0, 0, 0, 1, 0, 1, 1, 1, 1, 1, 1,\n",
       "        0, 0, 1, 1, 0, 0, 1, 0, 0, 0, 0, 1, 1, 1, 1, 0, 1, 1, 1, 1, 1, 0,\n",
       "        1, 0, 1, 1, 1, 1, 0, 1, 1, 0, 1, 0, 0, 1, 0, 1, 1, 0, 1, 1, 0, 1,\n",
       "        0, 0, 0, 0, 1, 1, 0, 0, 0, 0, 0, 0, 0, 1, 0, 0, 1, 1, 0, 1, 1, 0,\n",
       "        0, 1, 1, 0, 1, 1, 0, 1, 0, 0, 0, 1, 1, 1, 1, 1, 1, 1, 1, 1, 0, 1,\n",
       "        1, 0, 0, 1, 1, 1, 1, 0, 1, 0, 1, 1, 1, 1, 0, 0, 1, 1, 1, 0, 1, 0,\n",
       "        1, 1, 0, 0, 1, 0, 1, 0, 1, 1, 1, 1, 1, 0, 0, 1, 1, 1, 1, 1, 1, 1,\n",
       "        0, 1, 0, 1, 1, 0, 1, 0, 0, 1, 1, 0, 1, 0, 1, 0, 0, 1, 1, 1, 1, 0,\n",
       "        1, 1, 0, 1, 0, 0, 1, 1, 0, 1, 1, 1, 1, 0, 0, 0, 0, 1, 0, 0, 0, 1,\n",
       "        1, 0, 1, 0, 1, 1, 1, 0, 1, 1, 0, 1, 0, 0, 0, 1, 1, 0, 0, 0, 0, 1,\n",
       "        1, 1, 1, 0, 0, 1, 1, 0, 1, 1, 0, 1, 0, 0, 1, 0, 1, 0, 0, 0, 1, 0,\n",
       "        1, 1, 0, 1, 0, 0, 0, 0, 1, 1, 0, 0, 1, 1, 0, 0, 1, 0, 1, 0, 0, 1,\n",
       "        0, 0, 1, 0, 1, 1, 0, 1, 1, 0, 0, 1], dtype=int64),\n",
       " array([0, 0, 0, 0, 0, 0, 1, 1, 0, 0, 0, 1, 0, 1, 1, 1, 0, 1, 0, 1, 0, 1,\n",
       "        0, 0, 1, 1, 0, 1, 1, 0, 1, 1, 0, 1, 1, 0, 0, 1, 1, 1, 1, 0, 1, 1,\n",
       "        0, 0, 0, 1, 1, 0, 0, 1, 0, 0, 0, 0, 0, 0, 1, 0, 1, 1, 1, 1, 1, 1,\n",
       "        0, 0, 1, 1, 0, 0, 1, 0, 0, 0, 0, 1, 1, 1, 1, 0, 1, 1, 1, 1, 1, 0,\n",
       "        1, 0, 1, 1, 1, 1, 0, 1, 1, 0, 1, 0, 0, 1, 0, 1, 1, 0, 1, 1, 0, 1,\n",
       "        0, 0, 0, 0, 1, 1, 0, 0, 0, 0, 0, 0, 0, 1, 0, 0, 1, 1, 0, 1, 1, 0,\n",
       "        0, 1, 1, 0, 1, 1, 0, 1, 0, 0, 0, 1, 1, 1, 1, 1, 1, 1, 1, 1, 0, 1,\n",
       "        1, 0, 0, 1, 1, 1, 1, 0, 1, 0, 1, 1, 1, 1, 0, 0, 1, 1, 1, 0, 1, 0,\n",
       "        1, 1, 0, 0, 1, 0, 1, 0, 1, 1, 1, 1, 1, 0, 0, 1, 1, 1, 1, 1, 1, 1,\n",
       "        0, 1, 0, 1, 1, 0, 1, 0, 0, 1, 1, 0, 1, 0, 1, 0, 0, 1, 1, 1, 1, 0,\n",
       "        1, 1, 0, 1, 0, 0, 1, 1, 0, 1, 1, 1, 1, 0, 0, 0, 0, 1, 0, 0, 0, 1,\n",
       "        1, 0, 1, 0, 1, 1, 1, 0, 1, 1, 0, 1, 0, 0, 0, 1, 1, 0, 0, 0, 0, 1,\n",
       "        1, 1, 1, 0, 0, 1, 1, 0, 1, 1, 0, 1, 0, 0, 1, 0, 1, 0, 0, 0, 1, 0,\n",
       "        1, 1, 0, 1, 0, 0, 0, 0, 1, 1, 0, 0, 1, 1, 0, 0, 1, 0, 1, 0, 0, 1,\n",
       "        0, 0, 1, 0, 1, 1, 0, 1, 1, 0, 0, 1], dtype=int64),\n",
       " array([0, 0, 0, 0, 0, 0, 1, 1, 0, 0, 0, 1, 0, 1, 1, 1, 0, 1, 0, 1, 0, 1,\n",
       "        0, 0, 1, 1, 0, 1, 1, 0, 1, 1, 0, 1, 1, 0, 0, 1, 1, 1, 1, 0, 1, 1,\n",
       "        0, 0, 0, 1, 1, 0, 0, 1, 0, 0, 0, 0, 0, 0, 1, 0, 1, 1, 1, 1, 1, 1,\n",
       "        0, 0, 1, 1, 0, 0, 1, 0, 0, 0, 0, 1, 1, 1, 1, 0, 1, 1, 1, 1, 1, 0,\n",
       "        1, 0, 1, 1, 1, 1, 0, 1, 1, 0, 1, 0, 0, 1, 0, 1, 1, 0, 1, 1, 0, 1,\n",
       "        0, 0, 0, 0, 1, 1, 0, 0, 0, 0, 0, 0, 0, 1, 0, 0, 1, 1, 0, 1, 1, 0,\n",
       "        0, 1, 1, 0, 1, 1, 0, 1, 0, 0, 0, 1, 1, 1, 1, 1, 1, 1, 1, 1, 0, 1,\n",
       "        1, 0, 0, 1, 1, 1, 1, 0, 1, 0, 1, 1, 1, 1, 0, 0, 1, 1, 1, 0, 1, 0,\n",
       "        1, 1, 0, 0, 1, 0, 1, 0, 1, 1, 1, 1, 1, 0, 0, 1, 1, 1, 1, 1, 1, 1,\n",
       "        0, 1, 0, 1, 1, 0, 1, 0, 0, 1, 1, 0, 1, 0, 1, 0, 0, 1, 1, 1, 1, 0,\n",
       "        1, 1, 0, 1, 0, 0, 1, 1, 0, 1, 1, 1, 1, 0, 0, 0, 0, 1, 0, 0, 0, 1,\n",
       "        1, 0, 1, 0, 1, 1, 1, 0, 1, 1, 0, 1, 0, 0, 0, 1, 1, 0, 0, 0, 0, 1,\n",
       "        1, 1, 1, 0, 0, 1, 1, 0, 1, 1, 0, 1, 0, 0, 1, 0, 1, 0, 0, 0, 1, 0,\n",
       "        1, 1, 0, 1, 0, 0, 0, 0, 1, 1, 0, 0, 1, 1, 0, 0, 1, 0, 1, 0, 0, 1,\n",
       "        0, 0, 1, 0, 1, 1, 0, 1, 1, 0, 0, 1], dtype=int64),\n",
       " array([0, 0, 0, 0, 0, 0, 1, 1, 0, 0, 0, 1, 0, 1, 1, 1, 0, 1, 0, 1, 0, 1,\n",
       "        0, 0, 1, 1, 0, 1, 1, 0, 1, 1, 0, 1, 1, 0, 0, 1, 1, 1, 1, 0, 1, 1,\n",
       "        0, 0, 0, 1, 1, 0, 0, 1, 0, 0, 0, 0, 0, 0, 1, 0, 1, 1, 1, 1, 1, 1,\n",
       "        0, 0, 1, 1, 0, 0, 1, 0, 0, 0, 0, 1, 1, 1, 1, 0, 1, 1, 1, 1, 1, 0,\n",
       "        1, 0, 1, 1, 1, 1, 0, 1, 1, 0, 1, 0, 0, 1, 0, 1, 1, 0, 1, 1, 0, 1,\n",
       "        0, 0, 0, 0, 1, 1, 0, 0, 0, 0, 0, 0, 0, 1, 0, 0, 1, 1, 0, 1, 1, 0,\n",
       "        0, 1, 1, 0, 1, 1, 0, 1, 0, 0, 0, 1, 1, 1, 1, 1, 1, 1, 1, 1, 0, 1,\n",
       "        1, 0, 0, 1, 1, 1, 1, 0, 1, 0, 1, 1, 1, 1, 0, 0, 1, 1, 1, 0, 1, 0,\n",
       "        1, 1, 0, 0, 1, 0, 1, 0, 1, 1, 1, 1, 1, 0, 0, 1, 1, 1, 1, 1, 1, 1,\n",
       "        0, 1, 0, 1, 1, 0, 1, 0, 0, 1, 1, 0, 1, 0, 1, 0, 0, 1, 1, 1, 1, 0,\n",
       "        1, 1, 0, 1, 0, 0, 1, 1, 0, 1, 1, 1, 1, 0, 0, 0, 0, 1, 0, 0, 0, 1,\n",
       "        1, 0, 1, 0, 1, 1, 1, 0, 1, 1, 0, 1, 0, 0, 0, 1, 1, 0, 0, 0, 0, 1,\n",
       "        1, 1, 1, 0, 0, 1, 1, 0, 1, 1, 0, 1, 0, 0, 1, 0, 1, 0, 0, 0, 1, 0,\n",
       "        1, 1, 0, 1, 0, 0, 0, 0, 1, 1, 0, 0, 1, 1, 0, 0, 1, 0, 1, 0, 0, 1,\n",
       "        0, 0, 1, 0, 1, 1, 0, 1, 1, 0, 0, 1], dtype=int64),\n",
       " array([0, 0, 0, 0, 0, 0, 1, 1, 0, 0, 0, 1, 0, 1, 1, 1, 0, 1, 0, 1, 0, 1,\n",
       "        0, 0, 1, 1, 0, 1, 1, 0, 1, 1, 0, 1, 1, 0, 0, 1, 1, 1, 1, 0, 1, 1,\n",
       "        0, 0, 0, 1, 1, 0, 0, 1, 0, 0, 0, 0, 0, 0, 1, 0, 1, 1, 1, 1, 1, 1,\n",
       "        0, 0, 1, 1, 0, 0, 1, 0, 0, 0, 0, 1, 1, 1, 1, 0, 1, 1, 1, 1, 1, 0,\n",
       "        1, 0, 1, 1, 1, 1, 0, 1, 1, 0, 1, 0, 0, 1, 0, 1, 1, 0, 1, 1, 0, 1,\n",
       "        0, 0, 0, 0, 1, 1, 0, 0, 0, 0, 0, 0, 0, 1, 0, 0, 1, 1, 0, 1, 1, 0,\n",
       "        0, 1, 1, 0, 1, 1, 0, 1, 0, 0, 0, 1, 1, 1, 1, 1, 1, 1, 1, 1, 0, 1,\n",
       "        1, 0, 0, 1, 1, 1, 1, 0, 1, 0, 1, 1, 1, 1, 0, 0, 1, 1, 1, 0, 1, 0,\n",
       "        1, 1, 0, 0, 1, 0, 1, 0, 1, 1, 1, 1, 1, 0, 0, 1, 1, 1, 1, 1, 1, 1,\n",
       "        0, 1, 0, 1, 1, 0, 1, 0, 0, 1, 1, 0, 1, 0, 1, 0, 0, 1, 1, 1, 1, 0,\n",
       "        1, 1, 0, 1, 0, 0, 1, 1, 0, 1, 1, 1, 1, 0, 0, 0, 0, 1, 0, 0, 0, 1,\n",
       "        1, 0, 1, 0, 1, 1, 1, 0, 1, 1, 0, 1, 0, 0, 0, 1, 1, 0, 0, 0, 0, 1,\n",
       "        1, 1, 1, 0, 0, 1, 1, 0, 1, 1, 0, 1, 0, 0, 1, 0, 1, 0, 0, 0, 1, 0,\n",
       "        1, 1, 0, 1, 0, 0, 0, 0, 1, 1, 0, 0, 1, 1, 0, 0, 1, 0, 1, 0, 0, 1,\n",
       "        0, 0, 1, 0, 1, 1, 0, 1, 1, 0, 0, 1], dtype=int64)]"
      ]
     },
     "execution_count": 243,
     "metadata": {},
     "output_type": "execute_result"
    }
   ],
   "source": [
    "preds"
   ]
  }
 ],
 "metadata": {
  "kernelspec": {
   "display_name": "Python 3",
   "language": "python",
   "name": "python3"
  },
  "language_info": {
   "codemirror_mode": {
    "name": "ipython",
    "version": 3
   },
   "file_extension": ".py",
   "mimetype": "text/x-python",
   "name": "python",
   "nbconvert_exporter": "python",
   "pygments_lexer": "ipython3",
   "version": "3.7.3"
  }
 },
 "nbformat": 4,
 "nbformat_minor": 2
}
