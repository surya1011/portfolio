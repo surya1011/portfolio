{
 "cells": [
  {
   "cell_type": "code",
   "execution_count": 1,
   "metadata": {},
   "outputs": [
    {
     "data": {
      "text/plain": [
       "5572"
      ]
     },
     "execution_count": 1,
     "metadata": {},
     "output_type": "execute_result"
    }
   ],
   "source": [
    "import pandas as pd\n",
    "import numpy as np\n",
    "\n",
    "spam_data = pd.read_csv('spam.csv')\n",
    "\n",
    "spam_data['target'] = np.where(spam_data['target']=='spam',1,0)\n",
    "spam_data.head(10)\n",
    "len(spam_data)"
   ]
  },
  {
   "cell_type": "code",
   "execution_count": 2,
   "metadata": {
    "collapsed": true
   },
   "outputs": [],
   "source": [
    "from sklearn.model_selection import train_test_split\n",
    "\n",
    "\n",
    "X_train, X_test, y_train, y_test = train_test_split(spam_data['text'], \n",
    "                                                    spam_data['target'], \n",
    "                                                    random_state=0)"
   ]
  },
  {
   "cell_type": "code",
   "execution_count": 4,
   "metadata": {},
   "outputs": [],
   "source": [
    "from sklearn.naive_bayes import MultinomialNB\n",
    "from sklearn.feature_extraction.text import CountVectorizer\n",
    "\n",
    "vectorizer = CountVectorizer()\n",
    "vectorizer.fit(X_train)\n",
    "feature_vector = vectorizer.transform(X_train)\n",
    "classifierNB = MultinomialNB(alpha=0.1)\n",
    "classifierNB.fit(feature_vector, y_train)\n",
    "predictions = classifierNB.predict(vectorizer.transform(X_test))"
   ]
  },
  {
   "cell_type": "code",
   "execution_count": 7,
   "metadata": {},
   "outputs": [],
   "source": [
    "from sklearn.metrics import average_precision_score\n",
    "from sklearn.metrics import confusion_matrix\n",
    "\n",
    "confusion_matrix1 = confusion_matrix(y_test, predictions)\n"
   ]
  },
  {
   "cell_type": "code",
   "execution_count": 8,
   "metadata": {},
   "outputs": [
    {
     "data": {
      "text/plain": [
       "array([[1196,    0],\n",
       "       [  11,  186]], dtype=int64)"
      ]
     },
     "execution_count": 8,
     "metadata": {},
     "output_type": "execute_result"
    }
   ],
   "source": [
    "confusion_matrix1"
   ]
  },
  {
   "cell_type": "code",
   "execution_count": 9,
   "metadata": {},
   "outputs": [
    {
     "data": {
      "text/plain": [
       "array([1])"
      ]
     },
     "execution_count": 9,
     "metadata": {},
     "output_type": "execute_result"
    }
   ],
   "source": [
    "classifierNB.predict(vectorizer.transform(['won a award']))"
   ]
  },
  {
   "cell_type": "code",
   "execution_count": 11,
   "metadata": {
    "collapsed": true
   },
   "outputs": [],
   "source": [
    "def add_feature(X, feature_to_add):\n",
    "    \"\"\"\n",
    "    Returns sparse feature matrix with added feature.\n",
    "    feature_to_add can also be a list of features.\n",
    "    \"\"\"\n",
    "    from scipy.sparse import csr_matrix, hstack\n",
    "    return hstack([X, csr_matrix(feature_to_add).T], 'csr')"
   ]
  },
  {
   "cell_type": "code",
   "execution_count": 13,
   "metadata": {},
   "outputs": [
    {
     "name": "stdout",
     "output_type": "stream",
     "text": [
      "train_vec_1 - (4179, 16314)\n",
      "length of features - 16314\n",
      "last feature - û÷t \n",
      "train_vec_add_len - (4179, 16315)\n",
      "length of features - 16314\n",
      "last feature - û÷t \n",
      "train_vec_add_dig - (4179, 16316)\n",
      "length of features - 16314\n",
      "last feature - û÷t \n",
      "train_vec_add_nonchar - (4179, 16317)\n",
      "length of features - 16314\n",
      "last feature - û÷t \n"
     ]
    },
    {
     "data": {
      "text/plain": [
       "LogisticRegression(C=100, class_weight=None, dual=False, fit_intercept=True,\n",
       "          intercept_scaling=1, max_iter=100, multi_class='ovr', n_jobs=1,\n",
       "          penalty='l2', random_state=None, solver='liblinear', tol=0.0001,\n",
       "          verbose=0, warm_start=False)"
      ]
     },
     "execution_count": 13,
     "metadata": {},
     "output_type": "execute_result"
    }
   ],
   "source": [
    "from sklearn.linear_model import LogisticRegression\n",
    "\n",
    "vect = CountVectorizer(min_df=5, ngram_range=(2,5), analyzer='char_wb').fit(X_train)\n",
    "X_train_vectorized = vect.transform(X_train)\n",
    "print('train_vec_1 - {}'.format(X_train_vectorized.toarray().shape))\n",
    "print('length of features - {}'.format(len(vect.get_feature_names())))\n",
    "print('last feature - {}'.format(vect.get_feature_names()[-1]))\n",
    "X_train_vectorized = add_feature(X_train_vectorized, X_train.str.len())\n",
    "print('train_vec_add_len - {}'.format(X_train_vectorized.toarray().shape))\n",
    "print('length of features - {}'.format(len(vect.get_feature_names())))\n",
    "print('last feature - {}'.format(vect.get_feature_names()[-1]))\n",
    "X_train_digits = X_train.str.findall(r'(\\d)')\n",
    "X_train_vectorized = add_feature(X_train_vectorized, list(map(len, X_train_digits)))\n",
    "print('train_vec_add_dig - {}'.format(X_train_vectorized.toarray().shape))\n",
    "print('length of features - {}'.format(len(vect.get_feature_names())))\n",
    "print('last feature - {}'.format(vect.get_feature_names()[-1]))\n",
    "X_train_nonChar = X_train.str.findall(r'(\\W)')\n",
    "X_train_vectorized = add_feature(X_train_vectorized, list(map(len, X_train_nonChar)))\n",
    "print('train_vec_add_nonchar - {}'.format(X_train_vectorized.toarray().shape))\n",
    "print('length of features - {}'.format(len(vect.get_feature_names())))\n",
    "print('last feature - {}'.format(vect.get_feature_names()[-1]))\n",
    "\n",
    "X_test_vectorized = vect.transform(X_test)\n",
    "\n",
    "X_test_vectorized = add_feature(X_test_vectorized, X_test.str.len())\n",
    "X_test_digits = X_test.str.findall(r'(\\d)')\n",
    "X_test_vectorized = add_feature(X_test_vectorized, list(map(len, X_test_digits)))\n",
    "X_test_nonChar = X_test.str.findall(r'(\\W)')\n",
    "X_test_vectorized = add_feature(X_test_vectorized, list(map(len, X_test_nonChar)))\n",
    "\n",
    "model = LogisticRegression(C=100)\n",
    "model.fit(X_train_vectorized, y_train)\n"
   ]
  },
  {
   "cell_type": "code",
   "execution_count": 15,
   "metadata": {},
   "outputs": [],
   "source": [
    "import pickle\n",
    "\n",
    "pickle_out = open(\"C:/Users/suryanarayana.dunna/classifier_log_regression.pickle\",\"wb\")\n",
    "pickle.dump(model, pickle_out)\n",
    "pickle_out.close()"
   ]
  }
 ],
 "metadata": {
  "kernelspec": {
   "display_name": "Python 3",
   "language": "python",
   "name": "python3"
  },
  "language_info": {
   "codemirror_mode": {
    "name": "ipython",
    "version": 3
   },
   "file_extension": ".py",
   "mimetype": "text/x-python",
   "name": "python",
   "nbconvert_exporter": "python",
   "pygments_lexer": "ipython3",
   "version": "3.6.3"
  }
 },
 "nbformat": 4,
 "nbformat_minor": 2
}
